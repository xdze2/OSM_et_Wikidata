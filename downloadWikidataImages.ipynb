{
 "cells": [
  {
   "cell_type": "code",
   "execution_count": 9,
   "metadata": {},
   "outputs": [],
   "source": [
    "import json\n",
    "from pprint import pprint\n",
    "import tinydb as tdb\n",
    "import requests"
   ]
  },
  {
   "cell_type": "code",
   "execution_count": 10,
   "metadata": {},
   "outputs": [],
   "source": [
    "db = tdb.TinyDB('data/tinyDB.json')"
   ]
  },
  {
   "cell_type": "code",
   "execution_count": 11,
   "metadata": {},
   "outputs": [],
   "source": [
    "wikidata = db.table('wikidata')"
   ]
  },
  {
   "cell_type": "code",
   "execution_count": 12,
   "metadata": {},
   "outputs": [],
   "source": [
    "wikidataall = wikidata.all()"
   ]
  },
  {
   "cell_type": "code",
   "execution_count": 13,
   "metadata": {},
   "outputs": [
    {
     "name": "stdout",
     "output_type": "stream",
     "text": [
      "mkdir: cannot create directory ‘wikidataImages’: File exists\n"
     ]
    }
   ],
   "source": [
    "!mkdir wikidataImages"
   ]
  },
  {
   "cell_type": "code",
   "execution_count": 16,
   "metadata": {},
   "outputs": [
    {
     "data": {
      "text/plain": [
       "{'article': 'https://fr.wikipedia.org/wiki/Th%C3%A9%C3%A2tre_de_la_Madeleine',\n",
       " 'image': 'http://commons.wikimedia.org/wiki/Special:FilePath/Th%C3%A9%C3%A2tre%20de%20la%20Madeleine.JPG',\n",
       " 'item': 'http://www.wikidata.org/entity/Q386604',\n",
       " 'itemDescription': 'théâtre à Paris',\n",
       " 'merimee': 'PA00132981'}"
      ]
     },
     "execution_count": 16,
     "metadata": {},
     "output_type": "execute_result"
    }
   ],
   "source": [
    "wikidataall[4]"
   ]
  },
  {
   "cell_type": "code",
   "execution_count": 17,
   "metadata": {},
   "outputs": [],
   "source": [
    "def getWikiCode(itemUrl):\n",
    "    items = itemUrl.split('/')\n",
    "    return items[-1]"
   ]
  },
  {
   "cell_type": "code",
   "execution_count": 18,
   "metadata": {},
   "outputs": [
    {
     "name": "stdout",
     "output_type": "stream",
     "text": [
      "34503\n"
     ]
    }
   ],
   "source": [
    "wikidataImages = [ (getWikiCode(wd['item']), wd['image']) for wd in wikidataall if 'image' in wd ]\n",
    "print( len(wikidataImages) )"
   ]
  },
  {
   "cell_type": "code",
   "execution_count": 19,
   "metadata": {},
   "outputs": [
    {
     "name": "stdout",
     "output_type": "stream",
     "text": [
      "Q611944.JPG, "
     ]
    }
   ],
   "source": [
    "path = 'wikidataImages/'\n",
    "for name, url in wikidataImages[:1]:\n",
    "    extension = url.split('.')[-1]\n",
    "    name = name + '.' + extension\n",
    "    \n",
    "    r = requests.get(url)\n",
    "    \n",
    "    with open(path+name, 'wb') as f:\n",
    "        f.write(r.content)\n",
    "    \n",
    "    print(name, end=', ')"
   ]
  },
  {
   "cell_type": "code",
   "execution_count": 15,
   "metadata": {},
   "outputs": [
    {
     "data": {
      "text/plain": [
       "('[Q705054](http://www.wikidata.org/entity/Q705054)',\n",
       " 'http://commons.wikimedia.org/wiki/Special:FilePath/Douaumont%20au%20Printemps.jpeg')"
      ]
     },
     "execution_count": 15,
     "metadata": {},
     "output_type": "execute_result"
    }
   ],
   "source": [
    "wikidataImages[2]"
   ]
  },
  {
   "cell_type": "markdown",
   "metadata": {},
   "source": [
    "## Query the wikimedia API\n",
    "\n",
    "https://www.mediawiki.org/wiki/API:Imageinfo\n"
   ]
  },
  {
   "cell_type": "code",
   "execution_count": 161,
   "metadata": {},
   "outputs": [],
   "source": [
    "import osmandwiki as ow"
   ]
  },
  {
   "cell_type": "code",
   "execution_count": 166,
   "metadata": {},
   "outputs": [],
   "source": [
    "imagename = ow.imgUrlToFilename(wikidataImages[13][1])\n",
    "imageUrl = ow.getThumburl(imagename)"
   ]
  },
  {
   "cell_type": "code",
   "execution_count": 167,
   "metadata": {},
   "outputs": [
    {
     "data": {
      "text/plain": [
       "'https://upload.wikimedia.org/wikipedia/commons/thumb/d/d7/Abbaye_de_Royaumont_-_Canal_et_b%C3%A2timent_des_moines_01.jpg/300px-Abbaye_de_Royaumont_-_Canal_et_b%C3%A2timent_des_moines_01.jpg'"
      ]
     },
     "execution_count": 167,
     "metadata": {},
     "output_type": "execute_result"
    }
   ],
   "source": [
    "imageUrl"
   ]
  },
  {
   "cell_type": "code",
   "execution_count": null,
   "metadata": {},
   "outputs": [],
   "source": [
    "from urllib.parse import unquote"
   ]
  },
  {
   "cell_type": "code",
   "execution_count": 98,
   "metadata": {},
   "outputs": [
    {
     "data": {
      "text/plain": [
       "['FILE:Cathédrale Autun 02.JPG',\n",
       " 'FILE:P1040010 Paris Ier Bourse de Commerce de Paris rwk.JPG',\n",
       " 'FILE:Douaumont au Printemps.jpeg',\n",
       " 'FILE:Morlannechat.jpg']"
      ]
     },
     "execution_count": 98,
     "metadata": {},
     "output_type": "execute_result"
    }
   ],
   "source": [
    "imagename_decoded = [ \"FILE:\"+unquote(url.split('/')[-1]) for code, url in wikidataImages[:4] ]\n",
    "imagename_decoded"
   ]
  },
  {
   "cell_type": "code",
   "execution_count": 155,
   "metadata": {},
   "outputs": [],
   "source": [
    "imagename = \"FILE:\"+ \"Douaumont%20au%20Printemps.jpeg\"#'Albert%20Einstein%20Head.jpg'\n",
    "imagename_decoded = unquote(imagename)"
   ]
  },
  {
   "cell_type": "code",
   "execution_count": 156,
   "metadata": {},
   "outputs": [],
   "source": [
    "params = {\n",
    "    'action':'query',\n",
    "    'format':'json',\n",
    "    'titles': imagename_decoded[3],#'|'.join( imagename_decoded ),\n",
    "    'prop':'imageinfo',\n",
    "    'iiprop':'url|size',\n",
    "    \"iiurlwidth\":300\n",
    "}"
   ]
  },
  {
   "cell_type": "code",
   "execution_count": 157,
   "metadata": {},
   "outputs": [],
   "source": [
    "headers = { 'User-Agent': 'osm_vs_Merimee',\n",
    "            'From': 'https://github.com/xdze2'}\n",
    "\n",
    "url = \"https://commons.wikimedia.org/w/api.php\"\n",
    "r = requests.get(url, params=params, headers=headers)"
   ]
  },
  {
   "cell_type": "code",
   "execution_count": 158,
   "metadata": {},
   "outputs": [
    {
     "data": {
      "text/plain": [
       "'https://commons.wikimedia.org/w/api.php?iiurlwidth=300&prop=imageinfo&action=query&format=json&iiprop=url%7Csize&titles=E'"
      ]
     },
     "execution_count": 158,
     "metadata": {},
     "output_type": "execute_result"
    }
   ],
   "source": [
    "r.url"
   ]
  },
  {
   "cell_type": "code",
   "execution_count": 159,
   "metadata": {},
   "outputs": [
    {
     "name": "stdout",
     "output_type": "stream",
     "text": [
      "{'batchcomplete': '',\n",
      " 'query': {'pages': {'353653': {'ns': 0, 'pageid': 353653, 'title': 'E'}}}}\n"
     ]
    }
   ],
   "source": [
    "pprint( r.json() )"
   ]
  },
  {
   "cell_type": "code",
   "execution_count": 160,
   "metadata": {},
   "outputs": [],
   "source": [
    "result = r.json()"
   ]
  },
  {
   "cell_type": "code",
   "execution_count": 143,
   "metadata": {},
   "outputs": [],
   "source": [
    "thumburl = list( result['query']['pages'].values() )[0]['imageinfo'][0]['thumburl']"
   ]
  },
  {
   "cell_type": "code",
   "execution_count": 144,
   "metadata": {},
   "outputs": [
    {
     "data": {
      "text/plain": [
       "'https://upload.wikimedia.org/wikipedia/commons/thumb/f/f8/Morlannechat.jpg/200px-Morlannechat.jpg'"
      ]
     },
     "execution_count": 144,
     "metadata": {},
     "output_type": "execute_result"
    }
   ],
   "source": [
    "thumburl"
   ]
  },
  {
   "cell_type": "code",
   "execution_count": null,
   "metadata": {},
   "outputs": [],
   "source": []
  }
 ],
 "metadata": {
  "kernelspec": {
   "display_name": "Python 3",
   "language": "python",
   "name": "python3"
  },
  "language_info": {
   "codemirror_mode": {
    "name": "ipython",
    "version": 3
   },
   "file_extension": ".py",
   "mimetype": "text/x-python",
   "name": "python",
   "nbconvert_exporter": "python",
   "pygments_lexer": "ipython3",
   "version": "3.5.2"
  }
 },
 "nbformat": 4,
 "nbformat_minor": 2
}
