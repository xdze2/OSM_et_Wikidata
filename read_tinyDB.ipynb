{
 "cells": [
  {
   "cell_type": "code",
   "execution_count": 40,
   "metadata": {},
   "outputs": [],
   "source": [
    "import tinydb as tdb\n",
    "from pprint import pprint"
   ]
  },
  {
   "cell_type": "code",
   "execution_count": 32,
   "metadata": {},
   "outputs": [],
   "source": [
    "db = tdb.TinyDB('data/tinyDB.json')"
   ]
  },
  {
   "cell_type": "code",
   "execution_count": 33,
   "metadata": {},
   "outputs": [
    {
     "data": {
      "text/plain": [
       "{'_default', 'merimee', 'osm', 'wikidata'}"
      ]
     },
     "execution_count": 33,
     "metadata": {},
     "output_type": "execute_result"
    }
   ],
   "source": [
    "db.tables()"
   ]
  },
  {
   "cell_type": "code",
   "execution_count": 34,
   "metadata": {},
   "outputs": [],
   "source": [
    "osm = db.table('osm')\n",
    "merimee = db.table('merimee')\n",
    "wikidata = db.table('wikidata')"
   ]
  },
  {
   "cell_type": "code",
   "execution_count": 42,
   "metadata": {},
   "outputs": [
    {
     "data": {
      "text/plain": [
       "{'article': 'https://fr.wikipedia.org/wiki/%C3%89glise_Saint-%C3%89tienne-du-Mont_de_Paris',\n",
       " 'item': 'http://www.wikidata.org/entity/Q583251',\n",
       " 'itemDescription': 'édifice religieux de Paris, en France',\n",
       " 'merimee': 'PA00088414'}"
      ]
     },
     "execution_count": 42,
     "metadata": {},
     "output_type": "execute_result"
    }
   ],
   "source": [
    "wikidata.all()[0]"
   ]
  },
  {
   "cell_type": "code",
   "execution_count": 49,
   "metadata": {},
   "outputs": [],
   "source": [
    "ref = 'PA00088414'\n",
    "m = merimee.search(tdb.where('ref') == ref)\n",
    "o = osm.search(tdb.where('ref:mhs') == ref)\n",
    "w = wikidata.search(tdb.where('merimee') == ref)"
   ]
  },
  {
   "cell_type": "code",
   "execution_count": 50,
   "metadata": {},
   "outputs": [
    {
     "name": "stdout",
     "output_type": "stream",
     "text": [
      "Merimee:\n",
      "[{'adrs': 'Sainte-Geneviève (place) 1',\n",
      "  'code_departement': '75',\n",
      "  'commune': 'Paris 5e Arrondissement',\n",
      "  'coordonnees_insee': [48.8445086596, 2.34985938556],\n",
      "  'dpro': '1862 : classé MH',\n",
      "  'etud': 'Recensement immeubles MH',\n",
      "  'insee': '75105',\n",
      "  'new_name': 'Ile-de-France',\n",
      "  'nom_dept': 'Paris',\n",
      "  'ppro': 'Eglise Saint-Etienne-du-Mont : classement par liste de 1862',\n",
      "  'ref': 'PA00088414',\n",
      "  'reg': 'Ile-de-France',\n",
      "  'reg_normalized': 'ile de france',\n",
      "  'scle': '4e quart 15e siècle;2e quart 17e siècle',\n",
      "  'stat': 'Propriété de la commune',\n",
      "  'tico': 'Eglise Saint-Etienne-du-Mont'}]\n",
      "\n",
      " OSM:\n",
      "[{'amenity': 'place_of_worship',\n",
      "  'building': 'church',\n",
      "  'building:levels': '7',\n",
      "  'denomination': 'catholic',\n",
      "  'email': 'parsem@worldonline.fr',\n",
      "  'fax': '+33 1 43253849',\n",
      "  'heritage': '2',\n",
      "  'heritage:operator': 'mhs',\n",
      "  'image': 'https://commons.wikimedia.org/wiki/Category:Église_Saint-Étienne-du-Mont',\n",
      "  'mhs:inscription_date': '1862',\n",
      "  'name': 'Église Saint-Étienne-du-Mont',\n",
      "  'opening_hours': 'Mo off; Tu-Fr 08:45-19:45; Sa 08:45-12:00,14:00-19:45; Su '\n",
      "                   '08:45-12:15,14:00-19:45',\n",
      "  'phone': '+33 1 43541179',\n",
      "  'ref:FR:CEF': '75105_02',\n",
      "  'ref:mhs': 'PA00088414',\n",
      "  'religion': 'christian',\n",
      "  'service_times': 'Tu-Fr 12:15,18:45, Sa 11:00',\n",
      "  'source': 'Cadastre ; mise à jour : 2010; paris.fr, survey, bing',\n",
      "  'start_date': '1494',\n",
      "  'url:mistal': 'http://www.culture.gouv.fr/public/mistral/mdp_fr?ACTION=CHERCHER&FIELD_98=LMER,LPAL&VALUE_98=PA00088414',\n",
      "  'website': 'http://www.saintetiennedumont.fr/',\n",
      "  'wikidata': 'Q583251',\n",
      "  'wikipedia': 'fr:Église Saint-Étienne-du-Mont'}]\n",
      "\n",
      " Wikidata:\n",
      "[{'article': 'https://fr.wikipedia.org/wiki/%C3%89glise_Saint-%C3%89tienne-du-Mont_de_Paris',\n",
      "  'item': 'http://www.wikidata.org/entity/Q583251',\n",
      "  'itemDescription': 'édifice religieux de Paris, en France',\n",
      "  'merimee': 'PA00088414'}]\n"
     ]
    }
   ],
   "source": [
    "print('Merimee:')\n",
    "pprint(m)\n",
    "print('\\n OSM:')\n",
    "pprint(o)\n",
    "print('\\n Wikidata:')\n",
    "pprint(w)"
   ]
  },
  {
   "cell_type": "code",
   "execution_count": null,
   "metadata": {},
   "outputs": [],
   "source": []
  }
 ],
 "metadata": {
  "kernelspec": {
   "display_name": "Python 3",
   "language": "python",
   "name": "python3"
  },
  "language_info": {
   "codemirror_mode": {
    "name": "ipython",
    "version": 3
   },
   "file_extension": ".py",
   "mimetype": "text/x-python",
   "name": "python",
   "nbconvert_exporter": "python",
   "pygments_lexer": "ipython3",
   "version": "3.5.2"
  }
 },
 "nbformat": 4,
 "nbformat_minor": 2
}
