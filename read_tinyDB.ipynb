{
 "cells": [
  {
   "cell_type": "code",
   "execution_count": 1,
   "metadata": {},
   "outputs": [],
   "source": [
    "import tinydb as tdb\n",
    "from pprint import pprint"
   ]
  },
  {
   "cell_type": "code",
   "execution_count": 2,
   "metadata": {},
   "outputs": [],
   "source": [
    "db = tdb.TinyDB('data/tinyDB.json')"
   ]
  },
  {
   "cell_type": "code",
   "execution_count": 3,
   "metadata": {},
   "outputs": [
    {
     "data": {
      "text/plain": [
       "{'_default', 'merimee', 'osm', 'wikidata'}"
      ]
     },
     "execution_count": 3,
     "metadata": {},
     "output_type": "execute_result"
    }
   ],
   "source": [
    "db.tables()"
   ]
  },
  {
   "cell_type": "code",
   "execution_count": 4,
   "metadata": {},
   "outputs": [],
   "source": [
    "osm = db.table('osm')\n",
    "merimee = db.table('merimee')\n",
    "wikidata = db.table('wikidata')"
   ]
  },
  {
   "cell_type": "code",
   "execution_count": 6,
   "metadata": {},
   "outputs": [
    {
     "name": "stdout",
     "output_type": "stream",
     "text": [
      "44912\n",
      "45268\n",
      "32246\n"
     ]
    }
   ],
   "source": [
    "print( len( wikidata.all() ) )\n",
    "print( len( merimee.all() ) )\n",
    "print( len( osm.all() ) )"
   ]
  },
  {
   "cell_type": "code",
   "execution_count": 5,
   "metadata": {},
   "outputs": [
    {
     "data": {
      "text/plain": [
       "{'article': 'https://fr.wikipedia.org/wiki/%C3%89glise_Saint-%C3%89tienne-du-Mont_de_Paris',\n",
       " 'item': 'http://www.wikidata.org/entity/Q583251',\n",
       " 'itemDescription': 'édifice religieux de Paris, en France',\n",
       " 'merimee': 'PA00088414'}"
      ]
     },
     "execution_count": 5,
     "metadata": {},
     "output_type": "execute_result"
    }
   ],
   "source": [
    "wikidata.all()[0]"
   ]
  },
  {
   "cell_type": "code",
   "execution_count": 7,
   "metadata": {},
   "outputs": [],
   "source": [
    "ref = 'PA00081941'\n",
    "m = merimee.search(tdb.where('ref') == ref)\n",
    "o = osm.search(tdb.where('ref:mhs') == ref)\n",
    "w = wikidata.search(tdb.where('merimee') == ref)"
   ]
  },
  {
   "cell_type": "code",
   "execution_count": 8,
   "metadata": {},
   "outputs": [
    {
     "name": "stdout",
     "output_type": "stream",
     "text": [
      "Merimee:\n",
      "[{'adrs': '',\n",
      "  'affe': '',\n",
      "  'autr': 'Martini Simone (peintre) ; Giovanetti Matteo (peintre)',\n",
      "  'com': 'Avignon',\n",
      "  'dpro': '1840 : classé MH',\n",
      "  'dpt': '84',\n",
      "  'etud': 'recensement immeubles MH',\n",
      "  'insee': '84007',\n",
      "  'ppro': 'Le palais des Papes : classement par liste de 1840',\n",
      "  'ref': 'PA00081941',\n",
      "  'reg': \"Provence-Alpes-Côte d'Azur\",\n",
      "  'scle': '14e siècle',\n",
      "  'stat': 'propriété de la commune',\n",
      "  'tico': 'Palais des Papes'}]\n",
      "\n",
      " OSM:\n",
      "[{'building': 'castle',\n",
      "  'castle_type': 'palace',\n",
      "  'heritage': '2',\n",
      "  'heritage:operator': 'mhs',\n",
      "  'historic': 'castle',\n",
      "  'idOSM': 1253164,\n",
      "  'mhs:inscription_date': '1840',\n",
      "  'name': 'Palais des Papes',\n",
      "  'name:en': \"Popes' Palace\",\n",
      "  'name:sk': 'Pápežský palác',\n",
      "  'ref:mhs': 'PA00081941',\n",
      "  'source': 'cadastre-dgi-fr source : Direction Générale des Impôts - '\n",
      "            'Cadastre. Mise à jour : 2010',\n",
      "  'source:heritage': 'data.gouv.fr, Ministère de la Culture - 2016',\n",
      "  'start_date': 'C14',\n",
      "  'tourism': 'attraction',\n",
      "  'type': 'multipolygon',\n",
      "  'typeOSM': 'relation',\n",
      "  'website': 'http://www.palais-des-papes.com/fr',\n",
      "  'wikidata': 'Q143463',\n",
      "  'wikipedia': \"fr:Palais des papes d'Avignon\"}]\n",
      "\n",
      " Wikidata:\n",
      "[{'article': 'https://fr.wikipedia.org/wiki/Palais_des_papes_d%27Avignon',\n",
      "  'item': 'http://www.wikidata.org/entity/Q143463',\n",
      "  'itemDescription': \"palais et musée d'Avignon, France\",\n",
      "  'merimee': 'PA00081941'},\n",
      " {'article': 'https://fr.wikipedia.org/wiki/Chapelle_Saint-Martial_(Avignon)',\n",
      "  'item': 'http://www.wikidata.org/entity/Q20899071',\n",
      "  'itemDescription': 'chapelle située en Vaucluse, en France',\n",
      "  'merimee': 'PA00081941'},\n",
      " {'item': 'http://www.wikidata.org/entity/Q50118339',\n",
      "  'itemDescription': 'chapelle située dans le Vaucluse',\n",
      "  'merimee': 'PA00081941'},\n",
      " {'item': 'http://www.wikidata.org/entity/Q50118627',\n",
      "  'itemDescription': 'chapelle située à Avignon',\n",
      "  'merimee': 'PA00081941'}]\n"
     ]
    }
   ],
   "source": [
    "print('Merimee:')\n",
    "pprint(m)\n",
    "print('\\n OSM:')\n",
    "pprint(o)\n",
    "print('\\n Wikidata:')\n",
    "pprint(w)"
   ]
  },
  {
   "cell_type": "code",
   "execution_count": null,
   "metadata": {},
   "outputs": [],
   "source": []
  }
 ],
 "metadata": {
  "kernelspec": {
   "display_name": "Python 3",
   "language": "python",
   "name": "python3"
  },
  "language_info": {
   "codemirror_mode": {
    "name": "ipython",
    "version": 3
   },
   "file_extension": ".py",
   "mimetype": "text/x-python",
   "name": "python",
   "nbconvert_exporter": "python",
   "pygments_lexer": "ipython3",
   "version": "3.5.2"
  }
 },
 "nbformat": 4,
 "nbformat_minor": 2
}
