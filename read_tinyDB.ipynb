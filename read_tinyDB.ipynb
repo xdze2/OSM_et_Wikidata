{
 "cells": [
  {
   "cell_type": "code",
   "execution_count": 40,
   "metadata": {},
   "outputs": [],
   "source": [
    "import tinydb as tdb\n",
    "from pprint import pprint"
   ]
  },
  {
   "cell_type": "code",
   "execution_count": 32,
   "metadata": {},
   "outputs": [],
   "source": [
    "db = tdb.TinyDB('data/tinyDB.json')"
   ]
  },
  {
   "cell_type": "code",
   "execution_count": 33,
   "metadata": {},
   "outputs": [
    {
     "data": {
      "text/plain": [
       "{'_default', 'merimee', 'osm', 'wikidata'}"
      ]
     },
     "execution_count": 33,
     "metadata": {},
     "output_type": "execute_result"
    }
   ],
   "source": [
    "db.tables()"
   ]
  },
  {
   "cell_type": "code",
   "execution_count": 51,
   "metadata": {},
   "outputs": [],
   "source": [
    "osm = db.table('osm')\n",
    "merimee = db.table('merimee')\n",
    "wikidata = db.table('wikidata')"
   ]
  },
  {
   "cell_type": "code",
   "execution_count": 52,
   "metadata": {},
   "outputs": [
    {
     "data": {
      "text/plain": [
       "{'article': 'https://fr.wikipedia.org/wiki/%C3%89glise_Saint-%C3%89tienne-du-Mont_de_Paris',\n",
       " 'item': 'http://www.wikidata.org/entity/Q583251',\n",
       " 'itemDescription': 'édifice religieux de Paris, en France',\n",
       " 'merimee': 'PA00088414'}"
      ]
     },
     "execution_count": 52,
     "metadata": {},
     "output_type": "execute_result"
    }
   ],
   "source": [
    "wikidata.all()[0]"
   ]
  },
  {
   "cell_type": "code",
   "execution_count": 59,
   "metadata": {},
   "outputs": [],
   "source": [
    "ref = 'PA00088417'\n",
    "m = merimee.search(tdb.where('ref') == ref)\n",
    "o = osm.search(tdb.where('ref:mhs') == ref)\n",
    "w = wikidata.search(tdb.where('merimee') == ref)"
   ]
  },
  {
   "cell_type": "code",
   "execution_count": 60,
   "metadata": {},
   "outputs": [
    {
     "name": "stdout",
     "output_type": "stream",
     "text": [
      "Merimee:\n",
      "[{'adrs': 'Mouffetard (rue) 144',\n",
      "  'code_departement': '75',\n",
      "  'commune': 'Paris 5e Arrondissement',\n",
      "  'coordonnees_insee': [48.8445086596, 2.34985938556],\n",
      "  'dpro': '1906/10/16 : classé MH',\n",
      "  'etud': 'Recensement immeubles MH',\n",
      "  'insee': '75105',\n",
      "  'new_name': 'Ile-de-France',\n",
      "  'nom_dept': 'Paris',\n",
      "  'ppro': 'Eglise Saint-Médard : classement par arrêté du 16 octobre 1906',\n",
      "  'ref': 'PA00088417',\n",
      "  'reg': 'Ile-de-France',\n",
      "  'reg_normalized': 'ile de france',\n",
      "  'scle': '15e siècle;18e siècle',\n",
      "  'stat': 'Propriété de la commune',\n",
      "  'tico': 'Eglise Saint-Médard'}]\n",
      "\n",
      " OSM:\n",
      "[{'amenity': 'place_of_worship',\n",
      "  'building': 'church',\n",
      "  'denomination': 'catholic',\n",
      "  'name': 'Église Saint-Médard',\n",
      "  'ref:FR:CEF': '75105_05',\n",
      "  'ref:mhs': 'PA00088417',\n",
      "  'religion': 'christian',\n",
      "  'wikidata': 'Q574970',\n",
      "  'wikipedia': 'fr:Église Saint-Médard (Paris)'}]\n",
      "\n",
      " Wikidata:\n",
      "[{'article': 'https://fr.wikipedia.org/wiki/%C3%89glise_Saint-M%C3%A9dard_de_Paris',\n",
      "  'item': 'http://www.wikidata.org/entity/Q574970',\n",
      "  'itemDescription': 'église située à Paris, en France',\n",
      "  'merimee': 'PA00088417'}]\n"
     ]
    }
   ],
   "source": [
    "print('Merimee:')\n",
    "pprint(m)\n",
    "print('\\n OSM:')\n",
    "pprint(o)\n",
    "print('\\n Wikidata:')\n",
    "pprint(w)"
   ]
  },
  {
   "cell_type": "code",
   "execution_count": null,
   "metadata": {},
   "outputs": [],
   "source": []
  }
 ],
 "metadata": {
  "kernelspec": {
   "display_name": "Python 3",
   "language": "python",
   "name": "python3"
  },
  "language_info": {
   "codemirror_mode": {
    "name": "ipython",
    "version": 3
   },
   "file_extension": ".py",
   "mimetype": "text/x-python",
   "name": "python",
   "nbconvert_exporter": "python",
   "pygments_lexer": "ipython3",
   "version": "3.5.2"
  }
 },
 "nbformat": 4,
 "nbformat_minor": 2
}
