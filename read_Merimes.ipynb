{
 "cells": [
  {
   "cell_type": "code",
   "execution_count": 1,
   "metadata": {},
   "outputs": [],
   "source": [
    "import json\n",
    "from pprint import pprint"
   ]
  },
  {
   "cell_type": "code",
   "execution_count": 10,
   "metadata": {},
   "outputs": [
    {
     "name": "stdout",
     "output_type": "stream",
     "text": [
      "45191\n"
     ]
    }
   ],
   "source": [
    "# -- Charge le fichier JSON: --\n",
    "# src: https://www.data.gouv.fr/fr/datasets/immeubles-proteges-au-titre-des-monuments-historiques/#resource-9c9fdb40-5b4d-4296-9efd-0093d1bc7d15\n",
    "\n",
    "filename = 'data/liste-des-immeubles-proteges-au-titre-des-monuments-historiques.json' \n",
    "\n",
    "with open(filename) as f:\n",
    "    dataMerimee = json.load(f)\n",
    "    \n",
    "print( len(dataMerimee) )\n",
    "\n",
    "dataMerimee = [ d['fields'] for d in  dataMerimee ]"
   ]
  },
  {
   "cell_type": "code",
   "execution_count": 3,
   "metadata": {},
   "outputs": [
    {
     "name": "stdout",
     "output_type": "stream",
     "text": [
      "{'adrs': 'Aristide-Briand (place) ; Mairie (place de la)',\n",
      " 'autr': \"Rochas Jean (maître de l'oeuvre)\",\n",
      " 'code_departement': '84',\n",
      " 'commune': 'Pernes-les-Fontaines',\n",
      " 'coordonnees_insee': [43.9960550539, 5.03959100234],\n",
      " 'dpro': '2009/03/31 : classé MH',\n",
      " 'etud': 'recensement immeubles MH',\n",
      " 'insee': '84088',\n",
      " 'new_name': \"Provence-Alpes-Côte d'Azur\",\n",
      " 'nom_dept': 'Vaucluse',\n",
      " 'ppro': \"Les parties bâties et non bâties de l'Hôtel de Ville, en totalité, à \"\n",
      "         'savoir le corps central, les ailes nord et sud, y compris leurs '\n",
      "         \"appendices en retour, l'aile sud-ouest, le mur de clôture de la cour \"\n",
      "         \"d'honneur avec son portail et sa fontaine, les emprises de la cour \"\n",
      "         \"d'honneur, des autres cours et des jardins, la fontaine du jardin \"\n",
      "         '(cad. AX 549, 638) : classement par arrêté du 31 mars 2009',\n",
      " 'ref': 'PA00082123',\n",
      " 'reg': \"Provence-Alpes-Côte d'Azur\",\n",
      " 'reg_normalized': \"provence alpes cote d'azur\",\n",
      " 'scle': '17e siècle',\n",
      " 'stat': 'propriété de la commune',\n",
      " 'tico': 'Hôtel de ville, ancien hôtel de Brancas-Cheilus'}\n"
     ]
    }
   ],
   "source": [
    "# To find an example:\n",
    "for d in dataMerimee:\n",
    "    if 'autr' in d:\n",
    "        pprint(d)\n",
    "        break"
   ]
  },
  {
   "cell_type": "code",
   "execution_count": 4,
   "metadata": {},
   "outputs": [
    {
     "name": "stdout",
     "output_type": "stream",
     "text": [
      "['adrs', 'affe', 'autr', 'code_departement', 'commune', 'coordonnees_insee', 'dpro', 'etud', 'insee', 'new_name', 'nom_dept', 'ppro', 'ref', 'reg', 'reg_normalized', 'scle', 'stat', 'tico']\n"
     ]
    }
   ],
   "source": [
    "# Liste les cles utilisees:\n",
    "allkeys = { k for d in dataMerimee for k in d.keys()  }\n",
    "print( sorted(allkeys) )"
   ]
  },
  {
   "cell_type": "markdown",
   "metadata": {},
   "source": [
    " Liste et description des infos:\n",
    " \n",
    "        adrs: adresse?\n",
    "        affe: Organisne proprietaire?\n",
    "        autr:  contact (architecte, maitre d'oeuvre, ...)\n",
    "        code_departement:  numero du departement\n",
    "        commune: -\n",
    "        coordonnees_insee: coords GPS\n",
    "        dpro: date de l'enregistrment?\n",
    "        etud: etude d'origine? \n",
    "        insee: reference insee?\n",
    "        new_name: Nouveau nom de la region?\n",
    "        nom_dept: departement\n",
    "        ppro:  description ?\n",
    "        ref: reference Merimee\n",
    "        reg: Region\n",
    "        reg_normalized: Region\n",
    "        scle: siecle\n",
    "        stat: status  public/privee\n",
    "        tico:  description ?"
   ]
  },
  {
   "cell_type": "code",
   "execution_count": 5,
   "metadata": {},
   "outputs": [
    {
     "name": "stdout",
     "output_type": "stream",
     "text": [
      "38\n",
      "oropriété d'une personne privée, \n",
      "propriété d'un etat étranger, \n",
      "propriété d'un organisme professionnel, \n",
      "propriété d'un pays étranger, \n",
      "propriété d'un syndicat intercommunal, \n",
      "propriété d'un établissement public, \n",
      "propriété d'un établissement public communal, \n",
      "propriété d'un établissement public de coopération intercommunale, \n",
      "propriété d'un établissement public de l'etat, \n",
      "propriété d'un établissement public de l'état, \n",
      "propriété d'un établissement public départemental, \n",
      "propriété d'un établissement public régional, \n",
      "propriété d'un état étranger, \n",
      "propriété d'une association, \n",
      "propriété d'une association cultuelle, \n",
      "propriété d'une association diocésaine, \n",
      "propriété d'une collectivité territoriale, \n",
      "propriété d'une communauté d'agglomération, \n",
      "propriété d'une communauté de communes, \n",
      "propriété d'une communauté urbaine, \n",
      "propriété d'une personne privée, \n",
      "propriété d'une société privée, \n",
      "propriété de l'etat, \n",
      "propriété de l'office national des forêts, \n",
      "propriété de l'état, \n",
      "propriété de la banque de france, \n",
      "propriété de la communauté urbaine, \n",
      "propriété de la commune, \n",
      "propriété de la commune (?), \n",
      "propriété de la commune , propriété privée, \n",
      "propriété de la région, \n",
      "propriété du conseil général, \n",
      "propriété du conseil régional, \n",
      "propriété du département, \n",
      "propriété privée, \n",
      "propriété privée (?), \n",
      "propriété privée : propriété du département, \n",
      "propriété publique\n"
     ]
    }
   ],
   "source": [
    "'''  Liste toutes les valeurs utilisees  pour le status  ('stat')\n",
    "'''\n",
    "\n",
    "key = 'stat'\n",
    "parseStatus = lambda s: s.split(';')\n",
    "allStatus = { statut.strip().lower() for d in dataMerimee if key in d for statut in parseStatus( d[key] ) }\n",
    "print(len(allStatus))\n",
    "print( ', \\n'.join(sorted(allStatus)) ) "
   ]
  },
  {
   "cell_type": "code",
   "execution_count": 6,
   "metadata": {},
   "outputs": [
    {
     "name": "stdout",
     "output_type": "stream",
     "text": [
      "174\n",
      "; 10e siècle; 11e siècle; 12e siècle; 12e siècle : 13e siècle; 12e siècle. 16e siècle; 13e siècle; 13e siécle; 14e siècle; 14e siècle (détruit); 15e siècle; 16e siècle; 16è siècle; 17e siècle; 18e siècle; 19e siècle; 1er quart 10e siècle; 1er quart 11e siècle; 1er quart 12e siecle; 1er quart 12e siècle; 1er quart 13e siècle; 1er quart 14e siècle; 1er quart 15e siècle; 1er quart 16e siècle; 1er quart 17e siècle; 1er quart 18e siècle; 1er quart 19e siècle; 1er quart 1er siècle; 1er quart 20e siècle; 1er quart 21e siècle; 1er quart 2e siècle; 1er quart 5e siècle; 1er siècle; 1er siècle av. JC; 1ère moitié 10e siècle; 1ère moitié 11e siècle; 1ère moitié 12e siècle; 1ère moitié 13e siècle; 1ère moitié 14e siècle; 1ère moitié 15e siècle; 1ère moitié 16e siècle; 1ère moitié 17e siècle; 1ère moitié 18e siècle; 1ère moitié 19e siècle; 1ère moitié 19e siècle.; 1ère moitié 20e siècle; 1ère moitié 4e siècle; 1ère moitié 5e siècle; 1ére moitié 19e siècle; 20e siècle; 2e moitié 10e siècle; 2e moitié 11e siècle; 2e moitié 12e siècle; 2e moitié 13e siècle; 2e moitié 14e siècle; 2e moitié 15e siècle; 2e moitié 16e siècle; 2e moitié 17e siècle; 2e moitié 18e siècle; 2e moitié 19e siècle; 2e moitié 1er siècle; 2e moitié 20e siècle; 2e moitié 4e siècle; 2e moitié 9e siècle; 2e quart 11e siècle; 2e quart 12e siècle; 2e quart 13e siècle; 2e quart 14e siècle; 2e quart 15e siècle; 2e quart 16e siècle; 2e quart 17e siècle; 2e quart 18e siècle; 2e quart 19e siècle; 2e quart 20e siècle; 2e siècle; 2e siècle av. JC; 2è moitié 18e siècle; 3e quart 10e siècle; 3e quart 11e siècle; 3e quart 12e siècle; 3e quart 13e siècle; 3e quart 14e siècle; 3e quart 15e siècle; 3e quart 16e siècle; 3e quart 17e siècle; 3e quart 18e siècle; 3e quart 19e siècle; 3e quart 20e siècle; 3e quart 3e siècle; 3e siècle; 3e siècle av. JC; 4e quart 10e siècle; 4e quart 11e siècle; 4e quart 12e siècle; 4e quart 13e siècle; 4e quart 14e siècle; 4e quart 15e siècle; 4e quart 16e siècle; 4e quart 17e siècle; 4e quart 18e siècle; 4e quart 19e siècle; 4e quart 1er siècle; 4e quart 20e siècle; 4e quart 2e siècle; 4e quart 4e siècle; 4e quart 9e siècle; 4e siècle; 4e siècle av. JC; 5e siècle; 6e siècle; 6e siècle av. JC; 7e siècle; 8e siècle; 9e siècle; Age du bronze; Age du bronze ancien; Age du bronze final; Age du bronze moyen; Age du fer; Age du fer 1; Age du fer 2; Antiquité; Bas-Empire; Chalcolithique; Fin du Moyen Age; Gallo-romain; Gallo-romain (détruit); Haut Moyen Age; Haut-Empire; Limite 19e siècle 20e siècle; Milieu 16e siècle; Milieu 18e siècle; Milieu 19e siècle; Milieu du Moyen Age; Moyen Age; Moyen-Age; Mésolithique; Néolithique; Néolithique ancien; Néolithique moyen; Néolithique récent; Paléolithique; Paléolithique ancien; Paléolithique moyen; Paléolithique supérieur; Protohistoire; Préhistoire; République romaine; Temps modernes; limite 11e siècle 12e siècle; limite 12e siècle 13e siècle; limite 13e siècle 14e siècle; limite 14e siècle 15e siècle; limite 15e siècle 16e siècle; limite 16e siècle 17e siècle; limite 17e siècle 18e siècle; limite 18e siècle 19e siècle; limite 19e siècle 20e siècle; limite 6e siècle 7e siècle; limite 9e siècle 10e siècle; milieu 11e siècle; milieu 12e siècle; milieu 13e siècle; milieu 14e siècle; milieu 15e siècle; milieu 16e siècle; milieu 17e siècle; milieu 18e siècle; milieu 19e siècle; milieu 1er siècle; milieu 20e siècle; moyen Age; âge du bronze; âge du bronze final\n"
     ]
    }
   ],
   "source": [
    "'''  Liste toutes les valeurs utilisees  pour le siecle  ('scle')\n",
    "'''\n",
    "\n",
    "key = 'scle'\n",
    "\n",
    "def parseSiecle( s ):\n",
    "    s = s.split(';')\n",
    "    s = [ flat for v in s for flat in v.split(',')  ]\n",
    "    s = [ v.replace('(?)', '') for v in s ]\n",
    "    s = [ v.strip() for v in s ]\n",
    "    return s\n",
    "    \n",
    "allValues = { value for d in dataMerimee if key in d\n",
    "                    for value in parseSiecle(d[key]) }\n",
    "\n",
    "print(len(allValues))\n",
    "print( '; '.join(sorted(allValues)) ) "
   ]
  },
  {
   "cell_type": "code",
   "execution_count": 8,
   "metadata": {},
   "outputs": [
    {
     "name": "stdout",
     "output_type": "stream",
     "text": [
      "69\n",
      "association, \n",
      "association cultuelle, \n",
      "clergé, \n",
      "commune, \n",
      "conseil constitutionnel, \n",
      "conseil d'etat, \n",
      "conseil économique et social, \n",
      "conservatoire de l'espace littoral et des rivages lacustres, \n",
      "direction de l'architecture et du patrimoine, \n",
      "direction de la musique et de la danse, \n",
      "direction des archives de france, \n",
      "direction des musées de france, \n",
      "direction du livre et de la lecture, \n",
      "direction du patrimoine, \n",
      "direction générale des patrimoines, \n",
      "domaines, \n",
      "délégation aux arts plastiques, \n",
      "département, \n",
      "etat, \n",
      "france domaine, \n",
      "ministère chargé de l'agriculture, \n",
      "ministère chargé de l'agriculture et de la forêt, \n",
      "ministère chargé de l'agriculture, de l'agro-alimentaire et de la forêt, \n",
      "ministère chargé de l'emploi, \n",
      "ministère chargé de l'enseignement supérieur et de la recherche, \n",
      "ministère chargé de l'environnement, \n",
      "ministère chargé de l'industrie, \n",
      "ministère chargé de l'industrie et du tourisme, \n",
      "ministère chargé de l'intérieur, \n",
      "ministère chargé de l'écologie, de l'énergie, du développement durable et de l'aménagement du territoire, \n",
      "ministère chargé de l'écologie, de l'énergie, du développement durable et de la mer, \n",
      "ministère chargé de l'écologie, du développement durable et de l'énergie, \n",
      "ministère chargé de l'écologie, du développement durable, des transports et du logement, \n",
      "ministère chargé de l'économie et des finances, \n",
      "ministère chargé de l'éducation nationale, \n",
      "ministère chargé de l'équipement, \n",
      "ministère chargé de l'équipement et du logement, \n",
      "ministère chargé de la coopération, \n",
      "ministère chargé de la culture, \n",
      "ministère chargé de la défense, \n",
      "ministère chargé de la fonction publique, \n",
      "ministère chargé de la justice, \n",
      "ministère chargé de la mer, \n",
      "ministère chargé des affaires sociales, \n",
      "ministère chargé des affaires sociales et de l'emploi, \n",
      "ministère chargé des affaires étrangères, \n",
      "ministère chargé des anciens combattants, \n",
      "ministère chargé des départements et territoires d'outremer, \n",
      "ministère chargé des postes, \n",
      "ministère chargé des postes et télécommunications, \n",
      "ministère chargé des relations avec le parlement, \n",
      "ministère chargé des transports, \n",
      "ministère chargé du budget, \n",
      "ministère chargé du logement, \n",
      "ministère chargé du tourisme, \n",
      "ministère de l'écologie, du développement durable et de l'énergie, \n",
      "ministère de l'équipement, du logement et des transports, \n",
      "ministère des affaires étrangères, \n",
      "office national des forêts, \n",
      "personne privée, \n",
      "présidence de la république, \n",
      "région, \n",
      "services du premier ministre, \n",
      "société privée, \n",
      "syndicat intercommunal, \n",
      "sénat, \n",
      "établissement public, \n",
      "établissement public communal, \n",
      "établissement public de l'etat\n"
     ]
    }
   ],
   "source": [
    "'''  Liste toutes les valeurs utilisees  pour le AFFE  ('affe')\n",
    "'''\n",
    "\n",
    "key = 'affe'\n",
    "parseValue = lambda s: s.split(';')\n",
    "allValues = { val.strip().lower() for d in dataMerimee if key in d\n",
    "                                  for val in parseValue( d[key] ) }\n",
    "print(len(allValues))\n",
    "print( ', \\n'.join(sorted(allValues)) ) "
   ]
  },
  {
   "cell_type": "code",
   "execution_count": null,
   "metadata": {},
   "outputs": [],
   "source": []
  }
 ],
 "metadata": {
  "kernelspec": {
   "display_name": "Python 3",
   "language": "python",
   "name": "python3"
  },
  "language_info": {
   "codemirror_mode": {
    "name": "ipython",
    "version": 3
   },
   "file_extension": ".py",
   "mimetype": "text/x-python",
   "name": "python",
   "nbconvert_exporter": "python",
   "pygments_lexer": "ipython3",
   "version": "3.5.2"
  }
 },
 "nbformat": 4,
 "nbformat_minor": 2
}
