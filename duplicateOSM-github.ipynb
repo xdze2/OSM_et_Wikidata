{
 "cells": [
  {
   "cell_type": "code",
   "execution_count": 3,
   "metadata": {},
   "outputs": [],
   "source": [
    "import json\n",
    "from pprint import pprint\n",
    "import tinydb as tdb\n",
    "import requests"
   ]
  },
  {
   "cell_type": "markdown",
   "metadata": {},
   "source": [
    "# Cherche les doublons dans Open Street Map\n",
    "\n",
    "c.a.d. node/way référençant le même code Mérimée"
   ]
  },
  {
   "cell_type": "code",
   "execution_count": 4,
   "metadata": {},
   "outputs": [],
   "source": [
    "db = tdb.TinyDB('data/tinyDB.json')"
   ]
  },
  {
   "cell_type": "code",
   "execution_count": 5,
   "metadata": {},
   "outputs": [],
   "source": [
    "osm = db.table('osm')\n",
    "merimee = db.table('merimee')\n",
    "wikidata = db.table('wikidata')"
   ]
  },
  {
   "cell_type": "code",
   "execution_count": 6,
   "metadata": {},
   "outputs": [
    {
     "data": {
      "text/plain": [
       "{'article': 'https://fr.wikipedia.org/wiki/Th%C3%A9%C3%A2tre_de_la_Madeleine',\n",
       " 'image': 'http://commons.wikimedia.org/wiki/Special:FilePath/Th%C3%A9%C3%A2tre%20de%20la%20Madeleine.JPG',\n",
       " 'item': 'http://www.wikidata.org/entity/Q386604',\n",
       " 'itemDescription': 'théâtre à Paris',\n",
       " 'merimee': 'PA00132981'}"
      ]
     },
     "execution_count": 6,
     "metadata": {},
     "output_type": "execute_result"
    }
   ],
   "source": [
    "wikidata.all()[4]"
   ]
  },
  {
   "cell_type": "code",
   "execution_count": 7,
   "metadata": {},
   "outputs": [
    {
     "data": {
      "text/plain": [
       "[{'article': 'https://fr.wikipedia.org/wiki/Cath%C3%A9drale_Saint-%C3%89tienne_de_Metz',\n",
       "  'image': 'http://commons.wikimedia.org/wiki/Special:FilePath/Cathedrale-saint-etienne-metz-de-place-prefecture.jpg',\n",
       "  'item': 'http://www.wikidata.org/entity/Q671066',\n",
       "  'itemDescription': 'cathédrale située à Metz en Moselle, en France',\n",
       "  'merimee': 'PA00106817'}]"
      ]
     },
     "execution_count": 7,
     "metadata": {},
     "output_type": "execute_result"
    }
   ],
   "source": [
    "wikidata.search(tdb.where('merimee') == 'PA00106817')"
   ]
  },
  {
   "cell_type": "code",
   "execution_count": 8,
   "metadata": {},
   "outputs": [
    {
     "name": "stdout",
     "output_type": "stream",
     "text": [
      "32246\n"
     ]
    }
   ],
   "source": [
    "dataOSM = osm.all()\n",
    "print( len( dataOSM ) )"
   ]
  },
  {
   "cell_type": "code",
   "execution_count": 9,
   "metadata": {},
   "outputs": [
    {
     "data": {
      "text/plain": [
       "{'idOSM': 26691547,\n",
       " 'name': 'Bailleul',\n",
       " 'name:fr': 'Bailleul',\n",
       " 'name:nl': 'Belle',\n",
       " 'name:vls': 'Belle',\n",
       " 'place': 'town',\n",
       " 'population': '14480',\n",
       " 'ref:FR:SIREN': '215900432',\n",
       " 'ref:INSEE': '59043',\n",
       " 'ref:mhs': 'PA00107358',\n",
       " 'source:population': 'INSEE 2013',\n",
       " 'typeOSM': 'node',\n",
       " 'wikidata': 'Q2481155'}"
      ]
     },
     "execution_count": 9,
     "metadata": {},
     "output_type": "execute_result"
    }
   ],
   "source": [
    "dataOSM[1]"
   ]
  },
  {
   "cell_type": "code",
   "execution_count": 12,
   "metadata": {},
   "outputs": [
    {
     "name": "stdout",
     "output_type": "stream",
     "text": [
      "488\n"
     ]
    },
    {
     "data": {
      "text/plain": [
       "[('PA00103673', [24381, 24382]),\n",
       " ('PA00107625', [1381, 1385, 1390, 1393, 1396])]"
      ]
     },
     "execution_count": 12,
     "metadata": {},
     "output_type": "execute_result"
    }
   ],
   "source": [
    "#  groupe les entrees OSM par codes Merimee\n",
    "#\n",
    "\n",
    "dicoMerimeeIndice = {}\n",
    "for i, d in enumerate(dataOSM):\n",
    "    merimeeCode = d['ref:mhs']  # code merimee\n",
    "    if merimeeCode in dicoMerimeeIndice:\n",
    "        dicoMerimeeIndice[merimeeCode].append(i)\n",
    "    else:\n",
    "        dicoMerimeeIndice[merimeeCode] = [i]\n",
    "        \n",
    "listOfDuplicates = [ (refs, indices) for refs, indices in dicoMerimeeIndice.items() if len(indices)>1 ]\n",
    "\n",
    "print( len(listOfDuplicates) )\n",
    "listOfDuplicates[:2]"
   ]
  },
  {
   "cell_type": "code",
   "execution_count": 13,
   "metadata": {},
   "outputs": [],
   "source": [
    "def getWikiCode(itemUrl):\n",
    "    items = itemUrl.split('/')\n",
    "    text = '[%s](%s)'%( items[-1], itemUrl  )\n",
    "    return text\n",
    "\n",
    "def formatOSMInfo( info ):\n",
    "    osmtype = info['typeOSM']\n",
    "    desc = info['name'] if 'name' in info else '...'\n",
    "    idOSM = info['idOSM']\n",
    "    \n",
    "    osmUrl = 'https://www.openstreetmap.org/%s/%s' % (osmtype, idOSM)\n",
    "    osmLink = '[%s%s](%s)' % (osmtype, idOSM, osmUrl)\n",
    "    \n",
    "    if 'wikidata' in info:\n",
    "        wikidataUrl = 'https://www.wikidata.org/wiki/%s' % info['wikidata']\n",
    "        wikidataLink = '- [.wd.](%s)' % wikidataUrl\n",
    "    else:\n",
    "        wikidataLink = ''\n",
    "        \n",
    "    return '%s %s - %s   ' % ( osmLink, wikidataLink, desc)\n"
   ]
  },
  {
   "cell_type": "markdown",
   "metadata": {},
   "source": [
    "## To Github issues\n",
    "\n",
    "creer une 'issue' automatiquement avec l'API du Github"
   ]
  },
  {
   "cell_type": "code",
   "execution_count": 16,
   "metadata": {},
   "outputs": [],
   "source": [
    "# Charge le token\n",
    "# voir https://help.github.com/articles/creating-a-personal-access-token-for-the-command-line/\n",
    "token = open('githubtoken.txt','r').read().strip()"
   ]
  },
  {
   "cell_type": "code",
   "execution_count": 17,
   "metadata": {},
   "outputs": [],
   "source": [
    "from IPython.display import display, Markdown"
   ]
  },
  {
   "cell_type": "code",
   "execution_count": 18,
   "metadata": {},
   "outputs": [],
   "source": [
    "import osmandwiki as ow"
   ]
  },
  {
   "cell_type": "code",
   "execution_count": 100,
   "metadata": {},
   "outputs": [],
   "source": [
    "blacklist = ['ref:mhs', 'OSMurl', 'idOSM', 'typeOSM']\n",
    "\n",
    "def createMarkdown( merimee, indices ):\n",
    "    ''' Return the Markdown formated issue\n",
    "    '''\n",
    "    \n",
    "    body = ''\n",
    "    title = merimee\n",
    "    body += \"# %s  \\n\" % merimee \n",
    "\n",
    "    wd_results = wikidata.search(tdb.where('merimee') == merimee)\n",
    "    wd = wd_results[0]\n",
    "    \n",
    "    if 'image' in wd:\n",
    "        imagename = ow.imgUrlToFilename( wd['image'] )\n",
    "        imageUrl = ow.getThumburl(imagename)\n",
    "\n",
    "        body += '<img src=\"%s\"   />  \\n\\n' % imageUrl\n",
    "\n",
    "    if len(wd_results)>0:\n",
    "        wikidatacodes = [ r['item'] for r in wd_results ]\n",
    "        wikidataLinks = [ '[%s](%s)'%( url.split('/')[-1], url) for url in wikidatacodes ]\n",
    "        body += '**Wikidata:** %s   \\n' % ', '.join(wikidataLinks)\n",
    "    else:\n",
    "        body += '`pas de fiche wikidata`  \\n'\n",
    "    \n",
    "    if 'article' in wd:\n",
    "        body += '[page wikipedia](%s)  \\n' % wd['article'] \n",
    "    else:\n",
    "        body += '`pas de page wikipedia`   \\n'\n",
    "\n",
    "    if 'itemDescription' in wd:\n",
    "        body += '**Description:** ' + wd['itemDescription']\n",
    "        title += ' %s'% wd['itemDescription']\n",
    "\n",
    "    body += '\\n'\n",
    "    body += '\\n'\n",
    "\n",
    "\n",
    "    for i in indices:\n",
    "        info = dataOSM[i]\n",
    "        info['OSMurl'] = 'https://www.openstreetmap.org/{typeOSM}/{idOSM}'.format( **info  )\n",
    "        \n",
    "        if 'name' not in info:\n",
    "            info['name'] = '-'\n",
    "        \n",
    "        body += '### [{typeOSM} {idOSM}:]({OSMurl}) {name}\\n'.format( **info  )\n",
    "\n",
    "        for k, v in sorted( info.items(), key=lambda x:x[0] ):\n",
    "            if k in blacklist:\n",
    "                continue\n",
    "\n",
    "            if k == 'wikidata':\n",
    "                wikidataUrl = 'https://www.wikidata.org/wiki/%s' % v\n",
    "                body += '- [**wd.{}**]({})  \\n'.format(v, wikidataUrl  )\n",
    "\n",
    "            else:\n",
    "                body += '- **{}**: {}  \\n'.format( k, v  )\n",
    "\n",
    "\n",
    "\n",
    "        body += '\\n\\n'\n",
    "    \n",
    "    return title, body"
   ]
  },
  {
   "cell_type": "code",
   "execution_count": 101,
   "metadata": {},
   "outputs": [],
   "source": [
    "def formatOSMInfoIssue( merimee, indices ):\n",
    "    ''' Return the parameters to create the issue \n",
    "        i.e. send the query\n",
    "    '''\n",
    "    \n",
    "    title, page = createMarkdown( merimee, indices )\n",
    "\n",
    "    newissue = {\n",
    "      \"title\": title,\n",
    "      \"body\": page,\n",
    "      \"labels\": [\n",
    "        'doublons_dans_OSM'\n",
    "      ]\n",
    "    }\n",
    "        \n",
    "    return json.dumps( newissue )"
   ]
  },
  {
   "cell_type": "code",
   "execution_count": 102,
   "metadata": {},
   "outputs": [
    {
     "data": {
      "text/markdown": [
       "# PA00107649  \n",
       "<img src=\"https://upload.wikimedia.org/wikipedia/commons/thumb/b/bb/Lille_120-122_rue_paris.jpg/300px-Lille_120-122_rue_paris.jpg\"   />  \n",
       "\n",
       "**Wikidata:** [Q22960840](http://www.wikidata.org/entity/Q22960840)   \n",
       "`pas de page wikipedia`   \n",
       "**Description:** immeuble à Lille (Nord)\n",
       "\n",
       "### [node 2063752819:](https://www.openstreetmap.org/node/2063752819) Immeubles\n",
       "- **description**: Façades et toitures sur rue : inscription par arrêté du 14 mars 1944  \n",
       "- **heritage**: 3  \n",
       "- **mhs:inscription_date**: 1944-03-14  \n",
       "- **name**: Immeubles  \n",
       "- **tourism**: attraction  \n",
       "- [**wd.Q22960840**](https://www.wikidata.org/wiki/Q22960840)  \n",
       "\n",
       "\n",
       "### [node 2063752821:](https://www.openstreetmap.org/node/2063752821) Immeubles\n",
       "- **description**: Façades et toitures sur rue : inscription par arrêté du 14 mars 1944  \n",
       "- **heritage**: 3  \n",
       "- **mhs:inscription_date**: 1944-03-14  \n",
       "- **name**: Immeubles  \n",
       "\n",
       "\n"
      ],
      "text/plain": [
       "<IPython.core.display.Markdown object>"
      ]
     },
     "metadata": {},
     "output_type": "display_data"
    },
    {
     "name": "stdout",
     "output_type": "stream",
     "text": [
      "PA00107649 immeuble à Lille (Nord)\n"
     ]
    }
   ],
   "source": [
    "# test\n",
    "merimee, indices = listOfDuplicates[40]\n",
    "\n",
    "title, body = createMarkdown( merimee, indices )\n",
    "display(Markdown( body ))\n",
    "print( title )"
   ]
  },
  {
   "cell_type": "code",
   "execution_count": 99,
   "metadata": {},
   "outputs": [
    {
     "name": "stdout",
     "output_type": "stream",
     "text": [
      "True\n",
      "True\n"
     ]
    }
   ],
   "source": [
    "# --- Run ---\n",
    "for merimee, indices in listOfDuplicates[100:102]:\n",
    "    newIssue = formatOSMInfoIssue( merimee, indices )\n",
    "\n",
    "    # create an issue\n",
    "    r = requests.post('https://api.github.com/repos/xdze2/OSM_et_Wikidata/issues', \n",
    "                     headers={'Authorization': 'token %s'%token},\n",
    "                     data=newIssue)\n",
    "    print( r.ok )"
   ]
  },
  {
   "cell_type": "code",
   "execution_count": null,
   "metadata": {},
   "outputs": [],
   "source": []
  }
 ],
 "metadata": {
  "kernelspec": {
   "display_name": "Python 3",
   "language": "python",
   "name": "python3"
  },
  "language_info": {
   "codemirror_mode": {
    "name": "ipython",
    "version": 3
   },
   "file_extension": ".py",
   "mimetype": "text/x-python",
   "name": "python",
   "nbconvert_exporter": "python",
   "pygments_lexer": "ipython3",
   "version": "3.5.2"
  }
 },
 "nbformat": 4,
 "nbformat_minor": 2
}
