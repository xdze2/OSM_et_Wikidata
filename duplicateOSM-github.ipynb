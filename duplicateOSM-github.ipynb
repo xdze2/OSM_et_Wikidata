{
 "cells": [
  {
   "cell_type": "code",
   "execution_count": 128,
   "metadata": {},
   "outputs": [],
   "source": [
    "import json\n",
    "from pprint import pprint\n",
    "import tinydb as tdb\n",
    "import requests"
   ]
  },
  {
   "cell_type": "markdown",
   "metadata": {},
   "source": [
    "# Cherche les doublons dans Open Street Map\n",
    "\n",
    "c.a.d. node/way référençant le même code Mérimée"
   ]
  },
  {
   "cell_type": "code",
   "execution_count": 129,
   "metadata": {},
   "outputs": [],
   "source": [
    "db = tdb.TinyDB('data/tinyDB.json')"
   ]
  },
  {
   "cell_type": "code",
   "execution_count": 130,
   "metadata": {},
   "outputs": [],
   "source": [
    "osm = db.table('osm')\n",
    "merimee = db.table('merimee')\n",
    "wikidata = db.table('wikidata')"
   ]
  },
  {
   "cell_type": "code",
   "execution_count": 131,
   "metadata": {},
   "outputs": [
    {
     "data": {
      "text/plain": [
       "{'article': 'https://fr.wikipedia.org/wiki/Th%C3%A9%C3%A2tre_de_la_Madeleine',\n",
       " 'image': 'http://commons.wikimedia.org/wiki/Special:FilePath/Th%C3%A9%C3%A2tre%20de%20la%20Madeleine.JPG',\n",
       " 'item': 'http://www.wikidata.org/entity/Q386604',\n",
       " 'itemDescription': 'théâtre à Paris',\n",
       " 'merimee': 'PA00132981'}"
      ]
     },
     "execution_count": 131,
     "metadata": {},
     "output_type": "execute_result"
    }
   ],
   "source": [
    "wikidata.all()[4]"
   ]
  },
  {
   "cell_type": "code",
   "execution_count": 132,
   "metadata": {},
   "outputs": [
    {
     "data": {
      "text/plain": [
       "[{'article': 'https://fr.wikipedia.org/wiki/Cath%C3%A9drale_Saint-%C3%89tienne_de_Metz',\n",
       "  'image': 'http://commons.wikimedia.org/wiki/Special:FilePath/Cathedrale-saint-etienne-metz-de-place-prefecture.jpg',\n",
       "  'item': 'http://www.wikidata.org/entity/Q671066',\n",
       "  'itemDescription': 'cathédrale située à Metz en Moselle, en France',\n",
       "  'merimee': 'PA00106817'}]"
      ]
     },
     "execution_count": 132,
     "metadata": {},
     "output_type": "execute_result"
    }
   ],
   "source": [
    "wikidata.search(tdb.where('merimee') == 'PA00106817')"
   ]
  },
  {
   "cell_type": "code",
   "execution_count": 133,
   "metadata": {},
   "outputs": [
    {
     "name": "stdout",
     "output_type": "stream",
     "text": [
      "32246\n"
     ]
    }
   ],
   "source": [
    "dataOSM = osm.all()\n",
    "print( len( dataOSM ) )"
   ]
  },
  {
   "cell_type": "code",
   "execution_count": 134,
   "metadata": {},
   "outputs": [
    {
     "data": {
      "text/plain": [
       "{'idOSM': 26691547,\n",
       " 'name': 'Bailleul',\n",
       " 'name:fr': 'Bailleul',\n",
       " 'name:nl': 'Belle',\n",
       " 'name:vls': 'Belle',\n",
       " 'place': 'town',\n",
       " 'population': '14480',\n",
       " 'ref:FR:SIREN': '215900432',\n",
       " 'ref:INSEE': '59043',\n",
       " 'ref:mhs': 'PA00107358',\n",
       " 'source:population': 'INSEE 2013',\n",
       " 'typeOSM': 'node',\n",
       " 'wikidata': 'Q2481155'}"
      ]
     },
     "execution_count": 134,
     "metadata": {},
     "output_type": "execute_result"
    }
   ],
   "source": [
    "dataOSM[1]"
   ]
  },
  {
   "cell_type": "code",
   "execution_count": 135,
   "metadata": {},
   "outputs": [
    {
     "name": "stdout",
     "output_type": "stream",
     "text": [
      "488\n"
     ]
    },
    {
     "data": {
      "text/plain": [
       "[('PA00109812', [7952, 13346, 13347]), ('PA00081815', [13962, 13972])]"
      ]
     },
     "execution_count": 135,
     "metadata": {},
     "output_type": "execute_result"
    }
   ],
   "source": [
    "#  groupe les entrees OSM par codes Merimee\n",
    "#\n",
    "\n",
    "dicoMerimeeIndice = {}\n",
    "for i, d in enumerate(dataOSM):\n",
    "    merimeeCode = d['ref:mhs']  # code merimee\n",
    "    if merimeeCode in dicoMerimeeIndice:\n",
    "        dicoMerimeeIndice[merimeeCode].append(i)\n",
    "    else:\n",
    "        dicoMerimeeIndice[merimeeCode] = [i]\n",
    "        \n",
    "listOfDuplicates = [ (refs, indices) for refs, indices in dicoMerimeeIndice.items() if len(indices)>1 ]\n",
    "\n",
    "print( len(listOfDuplicates) )\n",
    "listOfDuplicates[:2]"
   ]
  },
  {
   "cell_type": "code",
   "execution_count": 136,
   "metadata": {},
   "outputs": [],
   "source": [
    "def getWikiCode(itemUrl):\n",
    "    items = itemUrl.split('/')\n",
    "    text = '[%s](%s)'%( items[-1], itemUrl  )\n",
    "    return text\n",
    "\n",
    "def formatOSMInfo( info ):\n",
    "    osmtype = info['typeOSM']\n",
    "    desc = info['name'] if 'name' in info else '...'\n",
    "    idOSM = info['idOSM']\n",
    "    \n",
    "    osmUrl = 'https://www.openstreetmap.org/%s/%s' % (osmtype, idOSM)\n",
    "    osmLink = '[%s%s](%s)' % (osmtype, idOSM, osmUrl)\n",
    "    \n",
    "    if 'wikidata' in info:\n",
    "        wikidataUrl = 'https://www.wikidata.org/wiki/%s' % info['wikidata']\n",
    "        wikidataLink = '- [.wd.](%s)' % wikidataUrl\n",
    "    else:\n",
    "        wikidataLink = ''\n",
    "        \n",
    "    return '%s %s - %s   ' % ( osmLink, wikidataLink, desc)\n"
   ]
  },
  {
   "cell_type": "markdown",
   "metadata": {},
   "source": [
    "## To Github issues"
   ]
  },
  {
   "cell_type": "code",
   "execution_count": 137,
   "metadata": {},
   "outputs": [],
   "source": [
    "# charge le token\n",
    "# voir https://help.github.com/articles/creating-a-personal-access-token-for-the-command-line/\n",
    "token = open('githubtoken.txt','r').read().strip()"
   ]
  },
  {
   "cell_type": "code",
   "execution_count": 138,
   "metadata": {},
   "outputs": [],
   "source": [
    "from IPython.display import display, Markdown"
   ]
  },
  {
   "cell_type": "code",
   "execution_count": 139,
   "metadata": {},
   "outputs": [],
   "source": [
    "blacklist = ['ref:mhs', 'OSMurl', 'idOSM', 'typeOSM']\n",
    "\n",
    "def createMarkdown( merimee, indices ):\n",
    "    body = ''\n",
    "    title = merimee\n",
    "    body += \"# %s  \\n\" % merimee \n",
    "\n",
    "    wd = wikidata.search(tdb.where('merimee') == merimee)\n",
    "    if len(wd)>1:\n",
    "        body += 'doublon dans wikidata \\n'\n",
    "\n",
    "    wd = wd[0]\n",
    "    if 'article' in wd:\n",
    "        body += '[page wikipedia](%s) \\n' % wd['article'] \n",
    "\n",
    "    if 'itemDescription' in wd:\n",
    "        body += wd['itemDescription']\n",
    "        title += ' %s'% wd['itemDescription']\n",
    "\n",
    "    body += '\\n'\n",
    "\n",
    "    if 'image' in wd:\n",
    "        #body += '![image wd](%s | width=100) \\n' % wd['image']\n",
    "        body += '<img src=\"%s\" width=\"300\"  /> \\n' % wd['image']\n",
    "\n",
    "\n",
    "    for i in indices:\n",
    "        info = dataOSM[i]\n",
    "        info['OSMurl'] = 'https://www.openstreetmap.org/{typeOSM}/{idOSM}'.format( **info  )\n",
    "        body += '### [{typeOSM} {idOSM}:]({OSMurl}) \\n'.format( **info  )\n",
    "\n",
    "\n",
    "\n",
    "        for k, v in sorted( info.items(), key=lambda x:x[0] ):\n",
    "            if k in blacklist:\n",
    "                continue\n",
    "\n",
    "            if k == 'wikidata':\n",
    "                wikidataUrl = 'https://www.wikidata.org/wiki/%s' % v\n",
    "                body += '- [**wd.{}**]({})  \\n'.format(k, wikidataUrl  )\n",
    "\n",
    "            else:\n",
    "                body += '- **{}**: {}  \\n'.format( k, v  )\n",
    "\n",
    "\n",
    "\n",
    "        body += '\\n\\n'\n",
    "    \n",
    "    return title, body"
   ]
  },
  {
   "cell_type": "code",
   "execution_count": 140,
   "metadata": {},
   "outputs": [],
   "source": [
    "def formatOSMInfoIssue( merimee, indices ):\n",
    "\n",
    "    title, page = createMarkdown( merimee, indices )\n",
    "\n",
    "    newissue = {\n",
    "      \"title\": title,\n",
    "      \"body\": page,\n",
    "      \"labels\": [\n",
    "        'doublons_dans_OSM'\n",
    "      ]\n",
    "    }\n",
    "        \n",
    "    return json.dumps( newissue )"
   ]
  },
  {
   "cell_type": "code",
   "execution_count": 141,
   "metadata": {},
   "outputs": [
    {
     "data": {
      "text/markdown": [
       "# PA00086599  \n",
       "[page wikipedia](https://fr.wikipedia.org/wiki/Campo-Formio_(m%C3%A9tro_de_Paris)) \n",
       "station du métro de Paris\n",
       "<img src=\"http://commons.wikimedia.org/wiki/Special:FilePath/Campo%20Formio%20Sortie.JPG\" width=\"300\"  /> \n",
       "### [node 2527916266:](https://www.openstreetmap.org/node/2527916266) \n",
       "- **heritage**: 3  \n",
       "- **heritage:operator**: mhs  \n",
       "- **mhs:inscription_date**: 1978-05-29  \n",
       "- **name**: Campo-Formio  \n",
       "- **railway**: subway_entrance  \n",
       "- **source:heritage**: data.gouv.fr:Ministère de la Culture - 04/2015  \n",
       "- **wheelchair**: no  \n",
       "- [**wd.wikidata**](https://www.wikidata.org/wiki/Q683208)  \n",
       "- **wikipedia**: fr:Campo-Formio (métro de Paris)  \n",
       "\n",
       "\n",
       "### [node 5313588578:](https://www.openstreetmap.org/node/5313588578) \n",
       "- **artist_name**: Hector Guimard  \n",
       "- **heritage**: 3  \n",
       "- **heritage:operator**: mhs  \n",
       "- **mhs:inscription_date**: 2016-02-12  \n",
       "- **source:heritage**: Base Mérimée 2016  \n",
       "- **tourism**: artwork  \n",
       "- **wikipedia**: fr:Édicule Guimard  \n",
       "\n",
       "\n"
      ],
      "text/plain": [
       "<IPython.core.display.Markdown object>"
      ]
     },
     "metadata": {},
     "output_type": "display_data"
    },
    {
     "name": "stdout",
     "output_type": "stream",
     "text": [
      "PA00086599 station du métro de Paris\n"
     ]
    }
   ],
   "source": [
    "merimee, indices = listOfDuplicates[40]\n",
    "\n",
    "title, body = createMarkdown( merimee, indices )\n",
    "display(Markdown( body ))\n",
    "print( title )"
   ]
  },
  {
   "cell_type": "code",
   "execution_count": 142,
   "metadata": {},
   "outputs": [
    {
     "name": "stdout",
     "output_type": "stream",
     "text": [
      "True\n",
      "True\n",
      "True\n",
      "True\n",
      "True\n",
      "True\n",
      "True\n",
      "True\n",
      "True\n",
      "True\n",
      "True\n",
      "True\n",
      "True\n",
      "True\n",
      "True\n",
      "True\n",
      "True\n",
      "True\n",
      "True\n",
      "True\n",
      "True\n",
      "True\n",
      "True\n",
      "True\n",
      "True\n",
      "True\n",
      "True\n",
      "True\n",
      "True\n",
      "True\n",
      "True\n",
      "True\n",
      "True\n",
      "True\n",
      "True\n"
     ]
    }
   ],
   "source": [
    "for merimee, indices in listOfDuplicates[:35]:\n",
    "    newIssue = formatOSMInfoIssue( merimee, indices )\n",
    "\n",
    "    # create an issue\n",
    "    r = requests.post('https://api.github.com/repos/xdze2/OSM_et_Wikidata/issues', \n",
    "                     headers={'Authorization': 'token %s'%token},\n",
    "                     data=newIssue)\n",
    "    print( r.ok )"
   ]
  },
  {
   "cell_type": "code",
   "execution_count": null,
   "metadata": {},
   "outputs": [],
   "source": []
  }
 ],
 "metadata": {
  "kernelspec": {
   "display_name": "Python 3",
   "language": "python",
   "name": "python3"
  },
  "language_info": {
   "codemirror_mode": {
    "name": "ipython",
    "version": 3
   },
   "file_extension": ".py",
   "mimetype": "text/x-python",
   "name": "python",
   "nbconvert_exporter": "python",
   "pygments_lexer": "ipython3",
   "version": "3.5.2"
  }
 },
 "nbformat": 4,
 "nbformat_minor": 2
}
