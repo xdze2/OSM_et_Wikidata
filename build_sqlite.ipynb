{
 "cells": [
  {
   "cell_type": "code",
   "execution_count": 5,
   "metadata": {},
   "outputs": [],
   "source": [
    "import json\n",
    "from pprint import pprint\n",
    "import tinydb as tdb"
   ]
  },
  {
   "cell_type": "code",
   "execution_count": 1,
   "metadata": {},
   "outputs": [],
   "source": [
    "dbname = 'data/sqliteDB.sqlite'"
   ]
  },
  {
   "cell_type": "code",
   "execution_count": 2,
   "metadata": {},
   "outputs": [
    {
     "name": "stdout",
     "output_type": "stream",
     "text": [
      "rm: impossible de supprimer 'data/sqliteDB.sqlite': Aucun fichier ou dossier de ce type\n"
     ]
    }
   ],
   "source": [
    "!rm {dbname}"
   ]
  },
  {
   "cell_type": "markdown",
   "metadata": {},
   "source": [
    "\n",
    "## OSM: Requete OverPass turbo:\n",
    "\n",
    "```sql\n",
    "[out:json][timeout:500];\n",
    "{{geocodeArea:France}}->.boundaryarea;\n",
    "\n",
    "(\n",
    " node(area.boundaryarea)[\"ref:mhs\"];\n",
    " way(area.boundaryarea)[\"ref:mhs\"];\n",
    " relation(area.boundaryarea)[\"ref:mhs\"];\n",
    ");\n",
    "\n",
    "out tags;\n",
    "```\n",
    "-- 20Mo\n",
    "\n",
    "Rq: j'ai essayé avec `out meta;`, le fichier fait ~200Mo, et avec `out body;` ~90Mo... c'est surement mieux de séparer par département...\n"
   ]
  },
  {
   "cell_type": "code",
   "execution_count": 20,
   "metadata": {},
   "outputs": [
    {
     "data": {
      "text/plain": [
       "33071"
      ]
     },
     "execution_count": 20,
     "metadata": {},
     "output_type": "execute_result"
    }
   ],
   "source": [
    "# Charge le fichier JSON:\n",
    "filename = 'data/osmTags_France.json' \n",
    "\n",
    "with open(filename) as f:\n",
    "    dataOsm = json.load(f)\n",
    "    \n",
    "dataOsm = dataOsm['elements']\n",
    "len(dataOsm)"
   ]
  },
  {
   "cell_type": "code",
   "execution_count": 21,
   "metadata": {},
   "outputs": [
    {
     "data": {
      "text/plain": [
       "32246"
      ]
     },
     "execution_count": 21,
     "metadata": {},
     "output_type": "execute_result"
    }
   ],
   "source": [
    "# Garde seulement les monuments avec le code commençant par PA...\n",
    "dataOsm = [ el for el in dataOsm if el['tags']['ref:mhs'].startswith('PA') ]\n",
    "len(dataOsm)"
   ]
  },
  {
   "cell_type": "code",
   "execution_count": 22,
   "metadata": {},
   "outputs": [],
   "source": [
    "def flatten( dico ):\n",
    "    flatdico = dico['tags']\n",
    "    flatdico['idOSM'] = dico['id']\n",
    "    flatdico['typeOSM'] = dico['type']\n",
    "    \n",
    "    return flatdico"
   ]
  },
  {
   "cell_type": "code",
   "execution_count": 23,
   "metadata": {},
   "outputs": [],
   "source": [
    "# Garde que les tags - and flatten the dict \n",
    "dataOsm = [ flatten( el ) for el in dataOsm ]"
   ]
  },
  {
   "cell_type": "code",
   "execution_count": 46,
   "metadata": {},
   "outputs": [
    {
     "data": {
      "text/plain": [
       "{'building': 'yes',\n",
       " 'building:levels': '4',\n",
       " 'heritage': '3',\n",
       " 'heritage:operator': 'mhs',\n",
       " 'idOSM': 554059,\n",
       " 'ref:mhs': 'PA00086328',\n",
       " 'type': 'multipolygon',\n",
       " 'typeOSM': 'relation',\n",
       " 'wikidata': 'Q22921439'}"
      ]
     },
     "execution_count": 46,
     "metadata": {},
     "output_type": "execute_result"
    }
   ],
   "source": [
    "dataOsm[31111]"
   ]
  },
  {
   "cell_type": "code",
   "execution_count": 33,
   "metadata": {},
   "outputs": [
    {
     "name": "stdout",
     "output_type": "stream",
     "text": [
      "{'payment:mastercard', 'festival:Avignon_off:2015', 'concentration_camp', 'brand:wikidata', 'source:maxspeed', 'factory:wood', 'population', 'toilets', 'geological', 'local_name', 'name:ba', 'mhs:inscription_date', 'alt_name:zh_hans', 'name:ku', 'name:viaduct', 'memorial:type', 'ms:inscription_dateate', 'lanes:backward', 'boat', 'smoothness', 'seamark:light:3:sequence', 'military', 'seamark:light:5:sector_end', 'building:part', 'int_name', 'addr:hamlet', 'alt_name', 'source:image', 'seamark:light:3:character', 'highway', 'seamark:light:2:range', 'railway:historic', 'seamark:light:1:colour', 'ref:RFF:ligne', 'railway:radio', 'monument', 'lcn_ref', 'name:el', 'bridge', 'name:wikipedia', 'b:type', 'denomination', 'maxheight', 'place', 'tracktype', 'ref:FR:LILLE', 'ref:sandre', 'cemetery:capacity', 'seamark:light:6:sector_end', 'CRNPDC:adresse2', 'name:tr', 'website:concerts', 'diocese', 'historic:building', 'vhf_channel', 'source:geometry', 'seamark:light:9:height', 'healthcare', 'typeOSM', 'seamark:light:10:period', 'healthcare:speciality', 'historic:period', 'website:heritage', 'fee', 'alt_name:de', 'seamark:light:8:sector_start', 'cemetery:conflict', 'building:shape', 'survey:date', 'contact:housenumber', 'bunker_type', 'architect', 'source:internet_access', 'owner', 'de', 'bridge:colour', 'site_type', 'since', 'building_status', 'surface', 'email', 'railway', 'name:cs', 'ref:themodernantiquarian.com', 'ref:FR:commune', 'noexit', 'telecom', 'name:pl', 'seamark:light:7:period', 'alt_ref:mhs', 'addr:place', 'alt_name:2', 'tower:construction', 'climbing:grade:french:min', 'festival', 'climbing:orientation', 'is_in:city', 'seamark:light:1:group', 'network:wikipedia', 'community:1270--1550-08-20', 'source:school', 'addr:unit', 'name:en', 'operator:wikidata', 'building:part:verticalpassage', 'emergency', 'capacity', 'building:min_level', 'railway:preferred_direction', 'fax', 'z_order', 'historic_1', 'amenity_1', 'tourism_1', 'activity', 'wpt_symbol', 'importance', 'description_3', 'alt_name:ru', 'source:addr:housenumber:ref', 'tunnel', 'name:ca', 'LILLE:adresse', 'fee:price', 'obelisk:size', 'comment', 'old_amenity', 'abandoned:man_made', 'inscription', 'route', 'moated', 'frequency', 'wikipedia:es', 'school:FR', 'start_date_1', 'name:lb', 'alcohol', 'source:ref:FR:FINESS', 'ref:igpc', 'seamark:light:8:sector_end', 'name:be', 'usage', 'source:ref:mhs', 'building:year', 'period', 'website:structurae', 'source:name:br', 'ele:mhws', 'name:lt', 'parking', 'brewery', 'protection_title', 'website:schedules', 'heritage:ref', 'abandoned:place', 'change_machine', 'architect:wikidata', 'reformed', 'min_level', 'description_2', 'source:alt_name:br', 'depth', 'note:deplacer4mE', 'comment:fr', 'seamark:light:5:colour', 'name:vi', 'mtb:scale:uphill', 'source', 'seamark:light:5:height', 'name:no', 'stone_type', 'start_date', 'name:id', 'name:uk', 'note:height', 'seats', 'seamark:light:5:sector_start', 'toilets:wheelchair', 'lighting:range', 'lock_name', 'watermill:disused', 'ref:FR:SIRET', 'door', 'name:hr', 'artist_name_2', 'seamark:light:3:height', 'seamark:light:4:height', 'source:alt_name', 'source:community', 'building:facade:colour', 'ref:FR:paroisse', 'bridge:structure', 'roof:angle', 'Commune', 'entrance', 'garden:type', 'roof:levels', 'name_alt:de', 'note:qadastre', 'step_count', 'Adresse', 'building:roof:colour', 'contact:city', 'seamark:light:4:period', 'seamark:light:3:range', 'est_width', 'seamark:light:10:range', 'seamark:light:7:height', 'old_name2', 'ref:CEF', 'old_ref:mhs', 'brand:website', 'name:la', 'abandoned', 'board_type', 'name:mhs', 'community:1550-08-20--', 'community:en', 'type:FR:FINESS', 'name:af', 'seamark:light:8:colour', 'building:use', 'cemetery', 'heritage:website', 'designation', 'name:sk', 'rooms', 'start_date:fr', 'agricultural', 'building:height', 'seamark:light:5:sequence', 'boundary', 'psv:oneway', 'source:religion', 'opening_hours', 'festival:Avignon_Off:2015', 'source:old_name', 'source:wheelchair:description', 'uic_ref', 'disused:man_made', 'seamark:light:3:group', 'barrier', 'artist_name_1', 'railway:bidirectional', 'roof:shape', 'name:ka', 'seamark:light:8:character', 'nom_sup', 'seamark:light:9:period', 'note:fr', 'heritage:source', 'signage', 'lcn', 'seamark:light:7:group', 'seamark:light:2:sequence', 'LILLE:commune', 'motorcar', 'station', 'shop:name', 'ref:t4t35', 'name:pt', 'type:RATP', 'internet_access:fee', 'seamark:light:character', 'maxweight', 'pilgrimage', 'wikipedia:de', 'old:amenity', 'addr:country', 'access', 'source:contact', 'source:modif', 'addr:postcode', 'wifi', 'generator:source', 'seamark:light:10:sequence', 'busway', 'operator:type', 'brand', 'opening_hours:url', 'ruins', 'colour', 'waterway', 'contact:phone', 'source:height', 'construction_date', 'seamark:light:7:colour', 'wikipedia:ca', 'toll', 'location', 'stamping_machine', 'municipal:facilities:fr', 'horse', 'visit', 'handrail', 'room', 'seamark:light:reference', 'description:en', 'website:fr:fee', 'microbrewery', 'bridge:name', 'old_ref', 'mtb:scale', 'note:ro', 'craft', 'tourism', 'lock_ref', 'building:condition', 'internet:operator', 'information', 'source:architect', 'prison_camp', 'seamark:information', 'alt_name2', 'image', 'seamark:light:2:period', 'bell', 'hgv', 'building:min_height', 'smoking', 'tower:type', 'cemetery:country', 'hiking', 'name:fi', 'seamark:light:2:colour', 'source:imagery', 'ref:FR:RATP', 'city', 'seamark:fog_signal:category', 'railway:ref:DB', 'landuse', 'seamark:fog_signal:group', 'distillery', 'description:2', 'alt_name:fr', 'name:io', 'ref:whc', 'name:zh_hant', 'dispensing', 'loc_name', 'contact:fax', 'name:et', 'artist:wikipedia', 'CEMT', 'name:ast', 'name:eo', 'water_characteristic', 'drinking_water', 'country', 'segregated', 'website_archive', 'name:he', 'castle_type:fr', 'seamark:light:3:sector_end', 'name:co', 'mapillary', 'des', 'protect_class', 'ref:Base_MédiatheK', 'end_date', 'width:table', 'name:hu', 'leisure', 'website:en', 'name:xmf', 'bic', 'disused', 'seamark:light:6:range', 'historic:website', 'name:t4t35.fr', 'destination', 'building:style', 'source:amenity', 'website', 'stars', 'seamark:light:9:range', 'alt_name_1', 'name:sr', 'seamark:light:5:visibility', 'place_of_worship:type', 'seamark:fog_signal:period', 'blind:description:fr', 'source_ref', 'social_facility', 'place_of_worship', 'STIF:zone', 'wikipedia2', 'seamark:light:2:character', 'seamark:light:5:range', 'public_building:wikipedia', 'name', 'headframe', 'building', 'seamark:light:1:range', 'source:addr:version', 'name:vo', 'seamark:light:10:sector_end', 'bmo:type', 'bicycle', 'type', 'mhs:inscription_date_1', 'direction', 'website_1', 'man_made:works', 'source:heritage', 'ref:FR:NantesMetropole', 'roof:orientation:compass', 'deaf:description:fr', 'denotation', 'building:roof:level', 'url:merimee', 'source:na', 'seamark:light:6:group', 'building_1', 'artist_name', 'display', 'ref:megalithic.co.uk', 'mhs:criteria', 'date_created', 'community:de', 'sac_scale', 'wheelchair:description', 'format', 'community:it', 'seamark:light:period', 'name:ru', 'source:festival', 'seamark:light:6:period', 'alt_name:es', 'amenity', 'short_name', 'url', 'seamark:light:height', 'phone:presse', 'source_2', 'historical_name', 'roof:colour', 'source:name:oc', 'seamark:light:1:sector_start', 'name:fr', 'url:igpc_doc', 'seamark:light:2:sector_end', 'AUCAME:ID_Unique', 'fence_type', 'FID', 'seamark:light:9:sequence', 'wpt_description', 'seamark:light:10:colour', 'heritage:name', 'building:facade:material', 'name:sv', 'internet_access:operator', 'lit', 're:FR:CEF', 'source:date', 'club', 'artwork_type', 'building:name', 'source:location', 'defensive', 'seamark:light:3:colour', 'seamark:light:4:sector_start', 'name:gsw', 'abandoned:amenity', 'osmuid', 'AUCAME:ID_Source', 'name:wikidata', 'name:nds', 'name:es', 'two_sided', 'description:FR', 'bridge:alt_name', 'old_name:en', 'source:mhs', 'parish_close', 'psv', 'engineer', 'wikipedia', 'alt_name:sr', 'lanes', 'windmill:vanes', 'website:en:fee', 'bridge:start_date', 'site', 'building:levels', 'cycleway', 'seamark:light:5:period', 'danger', 'source:population', 'profile', 'narrow', 'seamark:light:3:visibility', 'seamark:light:1:sector_end', 'seamark:light:10:sector_start', 'ref:FR:FINESS', 'ref:structurae', 'building:parts', 'megalith_type', 'name:ja', 'goods', 'delivery', 'seamark:light:7:character', '3dmr', 'access:mental_disabled', 'seamark:light:1:sequence', 'SNCF:stop_name', 'memorial', 'shop:operator', 'climbing:multipitch', 'wikipedia:fr', 'step:tactile_paving', 'community:fr', 'ruined:building', 'contact:website', 'seamark:light:8:period', 'architect:wikipedia', 'fare', 'source:building', 'mapillary:OSO', 'wikimedia_commons', 'seamark:light:4:range', 'ref:clochers.org', 'email:pasteur', 'name:tt', 'seamark:light:4:colour', 'Url:Merimee', 'way', 'name:th', 'seamark:light:2:sector_start', 'mhs:name', 'cathedral', 'climbing:grade:french:max', 'addr:post_box', 'url:palissy', 'insee', 'CRNPDC:codepostal', 'telescope:type', 'name:de', 'vehicle', 'seamark:light:range', 'max_level', 'addr:housename', 'ship:type', 'operator:fr', 'contact:email', 'ruin', 'voltage', 'seamark:light:7:sector_end', 'length:table', 'tomb', 'marker', 'is_in:town', 'fixme', 'addr:full', 'public_transport', 'seamark:light:category', 'internet_access:ssid', 'source:shape', 'historic:civilization:fr', 'material', 'opening_date', 'contact:postcode', 'ref:FR:LaPoste', 'natural', 'seamark:light:1:character', 'name:eu', 'name2', 'seamark:light:2:group', 'url:mistal', 'fee:currency', 'outdoor_seating', 'seamark:light:8:range', 'seamark:building:function', 'ref:mhs', 'religion', 'source:ro', 'self_service', 'covered', 'ref:UAI', 'dgfip_type', 'social_facility:for', 'addr:city', 'name:fa', 'note:addr:mhs', 'payment:credit_cards', 'oneway', 'was:landuse', 'subject:wikipedia', 'seamark:light:9:character', 'seamark:light:4:character', 'source_1', 'name:alt', 'shelter', 'ref:FR:label', 'layer', 'ref:FR:CRTA', 'classement', 'communication:television', 'building:colour', 'ref:FR:MemorialGenWeb', 'takeaway', 'wheelchair:reception', 'seamark:light:9:sector_end', 'Expositions', 'CRNPDC:commune', 'is_in:hamlet', 'visibility', 'seamark:light:sequence', 'castle', 'railway:ref', 'wheelchair:description:fr', 'url:festival', 'castle_type:de', 'plant:output:electricity', 'drone', 'service_times:adoration', 'subject:wikidata', 'FIXME', 'abandoned:military', 'contact:street', 'alt_name:oc', 'capacity:seating', 'building:architecture', 'name:nl', 'seamark:light:3:sector_start', 'addr:province', 'ref:FR:FANTOIR', 'source:2', 'service', 'gauge', 'patron', 'building:elevator', 'LILLE:quartier', 'seamark:light:3:period', 'name:etymology:wikidata', 'name:sh', 'building:roof', 'razed', 'addr:housenumber', 'name:bridge', 'CRNPDC:raisonsociale', 'railway:traffic_mode', 'community', 'name:ta', 'tourism:visitors', 'climbing:length:max', 'heritage_type', 'old_name', 'shop', 'charge', 'air_conditioning', 'gps', 'motorboat', 'heritage:inscription_date', 'ele', 'name:ko', 'CRNPDC:insee', 'mineshaft_type', 'razed:landuse', 'description:fr', 'castle_type', 'seamark:type', 'level', 'igpc:inscription_date', 'building:roof:shape', 'lining', 'festival:Avignon_In:2015', 'name:ro', 'seamark:light:10:character', 'source:description:en', 'pictogram', 'passage_time', 'ref:INSEE:city', 'official_name', 'subway', 'seamark:name', 'community:gender', 'whc:inscription_date', 'addr:state', 'ref:FR:uic8', 'golf', 'sidewalk', 'year_of_construction', 'seamark:light:5:character', 'ref:FR:STIF', 'name:sl', 'brand:wikipedia', 'seamark:light:10:height', 'ref:FR:CEF', 'ref:FR:NAF', 'internet_access', 'wikipedia:en', 'source:ref:UAI', 'abandoned:building', 'wikipedia_1', 'historic:era', 'source:pkey', 'seamark:light:1:height', 'alt_name:br', 'generator:method', 'protected', 'source:coordinates', 'dogs', 'seamark:light:colour', 'Galery', 'passenger_lines', 'relation', 'sport', 'height', 'building:level', 'alt_name:zh_hant', 'maxwidth', 'name:br', 'wikidata', 'seamark:light:6:colour', 'tourism_2', 'mhs:date', 'ref:FR:SIREN', 'maxweight:conditional', 'windows', 'ele:NHN', 'seamark:light:4:group', 'moved', 'FR:ERP', 'ruin_type', 'name:oc', 'seamark:light:5:group', 'landmark', 'indoor', 'mh:inscription_date', 'payment:cash', 'deanery', 'hide', 'heri', 'historic:civilization', 'old_name:de', 'religious_rank', 'ref', 'communication:radio', 'seamark:light:4:sequence', 'seamark:light:2:visibility', 'man_made', 'disused:building', 'office', 'seamark:light:9:colour', 'railway:preserved', 'note', 'building:color', 'seamark:light:group', 'seamark:light:6:sector_start', 'milestone_type', 'climbing:trad', 'drive_through', 'access:deaf', 'monastery:type', 'maxspeed', 'roof:material', 'addr:postbox', 'roof:height', 'seamark:light:8:sequence', 'network', 'water', 'disused:amenity', 'historic', 'length', 'name:da', 'source:name', 'aerialway', 'fenced', 'service_times', 'seamark:light:1:radius', 'bridge:movable', 'walking_disability:description:fr', 'wall', 'mental_disabled:description:fr', 'bridge:material', 'name:zh', 'whc:criteria', 'building:roof:orientation', 'dolmen', 'seamark:gate:category', 'roof:orientation', 'symbol', 'seamark:light:8:height', 'phone', 'name:ia', 'area', 'is_in', 'building:material', 'description:de', 'heritage:operator', 'seamark:light:1:period', 'disused:railway', 'mhs:description', 'name:ar', 'date', 'heritage', 'name:vls', 'source:addr', 'seamark:light:7:range', 'atm', 'lock', 'seamark:light:7:sequence', 'cuisine', 'demolished', 'bath:type', 'motor_vehicle', 'fortification_type', 'name_1', 'fish', 'old_name:fr', 'climbing:sport', 'seamark:light:6:character', 'seamark:light:2:height', 'seamark:landmark:height', 'idbat', 'seamark:light:9:sector_start', 'idOSM', 'ref:t4t35.fr', 'power', 'ref:FR:PTT', 'description', 'wheelchair', 'seamark:light:6:sequence', 'opening_hours:note', 'tracks', 'seamark:light:4:sector_end', 'electrified', 'access:blind', 'foot', 'lanes:forward', 'seamark:light:4:visibility', 'width', 'incline', 'url:mass', 'ref:INSEE', 'mtb:scale:imba', 'operator', 'demolished:building', 'intermittent', 'phone_1', 'motorcycle', 'photo', 'payment:visa', 'name:it', 'DGFIP:type', 'seamark:light:6:height', 'seamark:light:7:sector_start', 'theatre:genre', 'resource', 'addr:street', 'email:presse', 'automated', 'name:cn', 'priority'}\n"
     ]
    }
   ],
   "source": [
    "keys = set( k  for d in dataOsm for k in d.keys() )\n",
    "print( keys )"
   ]
  },
  {
   "cell_type": "code",
   "execution_count": 26,
   "metadata": {},
   "outputs": [
    {
     "data": {
      "text/plain": [
       "32246"
      ]
     },
     "execution_count": 26,
     "metadata": {},
     "output_type": "execute_result"
    }
   ],
   "source": [
    "# Push to tinyDB\n",
    "db = tdb.TinyDB(dbname)\n",
    "db.purge_table('osm')\n",
    "osm = db.table('osm')\n",
    "ids = osm.insert_multiple(dataOsm)\n",
    "len(ids)"
   ]
  },
  {
   "cell_type": "markdown",
   "metadata": {},
   "source": [
    "## Requete Wikidata\n",
    "```sql\n",
    "SELECT DISTINCT ?item ?itemDescription ?merimee ?article  WHERE {\n",
    "  ?item wdt:P380 ?merimee .\n",
    "  \n",
    "  OPTIONAL { ?article schema:about ?item .\n",
    "  ?article schema:isPartOf <https://fr.wikipedia.org/> . }\n",
    "   \n",
    "  FILTER(STRSTARTS(?merimee, \"PA\")).\n",
    "  \n",
    "  SERVICE wikibase:label {\n",
    "     bd:serviceParam wikibase:language \"fr\" .\n",
    " }\n",
    "}\n",
    "```\n",
    "-- 7,6 Mo"
   ]
  },
  {
   "cell_type": "code",
   "execution_count": 27,
   "metadata": {},
   "outputs": [
    {
     "data": {
      "text/plain": [
       "44912"
      ]
     },
     "execution_count": 27,
     "metadata": {},
     "output_type": "execute_result"
    }
   ],
   "source": [
    "# Charge le fichier JSON:\n",
    "filename = 'data/wikidata_France.json' \n",
    "\n",
    "with open(filename) as f:\n",
    "    dataWiki = json.load(f)\n",
    "    \n",
    "len(dataWiki)"
   ]
  },
  {
   "cell_type": "code",
   "execution_count": 28,
   "metadata": {},
   "outputs": [
    {
     "data": {
      "text/plain": [
       "{'article': 'https://fr.wikipedia.org/wiki/%C3%89glise_Saint-%C3%89tienne-du-Mont_de_Paris',\n",
       " 'item': 'http://www.wikidata.org/entity/Q583251',\n",
       " 'itemDescription': 'édifice religieux de Paris, en France',\n",
       " 'merimee': 'PA00088414'}"
      ]
     },
     "execution_count": 28,
     "metadata": {},
     "output_type": "execute_result"
    }
   ],
   "source": [
    "dataWiki[0]"
   ]
  },
  {
   "cell_type": "code",
   "execution_count": 29,
   "metadata": {},
   "outputs": [
    {
     "data": {
      "text/plain": [
       "44912"
      ]
     },
     "execution_count": 29,
     "metadata": {},
     "output_type": "execute_result"
    }
   ],
   "source": [
    "# Push to tinyDB\n",
    "db = tdb.TinyDB(dbname)\n",
    "db.purge_table('wikidata')\n",
    "wikidata = db.table('wikidata')\n",
    "ids = wikidata.insert_multiple(dataWiki)\n",
    "len(ids)"
   ]
  },
  {
   "cell_type": "markdown",
   "metadata": {},
   "source": [
    "# Merimee"
   ]
  },
  {
   "cell_type": "code",
   "execution_count": 35,
   "metadata": {},
   "outputs": [
    {
     "name": "stdout",
     "output_type": "stream",
     "text": [
      "45268\n"
     ]
    }
   ],
   "source": [
    "# -- Charge le fichier JSON: --\n",
    "# src: https://www.data.gouv.fr/fr/datasets/immeubles-proteges-au-titre-des-monuments-historiques/\n",
    "\n",
    "#filename = 'data/liste-des-immeubles-proteges-au-titre-des-monuments-historiques.json' \n",
    "filename = 'data/merimee-MH.json' \n",
    "\n",
    "with open(filename) as f:\n",
    "    dataMerimee = json.load(f)\n",
    "    \n",
    "print( len(dataMerimee) )\n",
    "\n",
    "# convert keys to lower-case:\n",
    "dataMerimee = [ { k.lower():v for k, v in d.items() }  for d in  dataMerimee ]"
   ]
  },
  {
   "cell_type": "code",
   "execution_count": 36,
   "metadata": {},
   "outputs": [
    {
     "data": {
      "text/plain": [
       "{'adrs': '',\n",
       " 'affe': '',\n",
       " 'autr': '',\n",
       " 'com': 'Aix-en-Othe',\n",
       " 'dpro': '1980/11/14 : inscrit MH',\n",
       " 'dpt': '10',\n",
       " 'etud': 'Recensement immeubles MH',\n",
       " 'insee': '10003',\n",
       " 'ppro': 'Eglise de la Nativité (cad. AB 179) : inscription par arrêté du 14 novembre 1980',\n",
       " 'ref': 'PA00078015',\n",
       " 'reg': 'Champagne-Ardenne',\n",
       " 'scle': '16e siècle ; 17e siècle ; 18e siècle',\n",
       " 'stat': 'Propriété de la commune',\n",
       " 'tico': 'Eglise de la Nativité'}"
      ]
     },
     "execution_count": 36,
     "metadata": {},
     "output_type": "execute_result"
    }
   ],
   "source": [
    "dataMerimee[1]"
   ]
  },
  {
   "cell_type": "code",
   "execution_count": 37,
   "metadata": {},
   "outputs": [
    {
     "data": {
      "text/plain": [
       "45268"
      ]
     },
     "execution_count": 37,
     "metadata": {},
     "output_type": "execute_result"
    }
   ],
   "source": [
    "# Push to tinyDB\n",
    "\n",
    "db = tdb.TinyDB(dbname)\n",
    "db.purge_table('merimee')\n",
    "merimee = db.table('merimee')\n",
    "\n",
    "ids = merimee.insert_multiple(dataMerimee)\n",
    "\n",
    "len(ids)"
   ]
  },
  {
   "cell_type": "code",
   "execution_count": 38,
   "metadata": {},
   "outputs": [
    {
     "name": "stdout",
     "output_type": "stream",
     "text": [
      "{'com', 'stat', 'affe', 'etud', 'autr', 'insee', 'dpro', 'scle', 'dpt', 'ref', 'adrs', 'tico', 'ppro', 'reg'}\n"
     ]
    }
   ],
   "source": [
    "keys = set( k  for d in merimee for k in d.keys() )\n",
    "print( keys )"
   ]
  },
  {
   "cell_type": "code",
   "execution_count": null,
   "metadata": {},
   "outputs": [],
   "source": []
  },
  {
   "cell_type": "code",
   "execution_count": null,
   "metadata": {},
   "outputs": [],
   "source": []
  }
 ],
 "metadata": {
  "kernelspec": {
   "display_name": "Python 3",
   "language": "python",
   "name": "python3"
  },
  "language_info": {
   "codemirror_mode": {
    "name": "ipython",
    "version": 3
   },
   "file_extension": ".py",
   "mimetype": "text/x-python",
   "name": "python",
   "nbconvert_exporter": "python",
   "pygments_lexer": "ipython3",
   "version": "3.5.2"
  }
 },
 "nbformat": 4,
 "nbformat_minor": 2
}
