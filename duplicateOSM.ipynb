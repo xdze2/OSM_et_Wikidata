{
 "cells": [
  {
   "cell_type": "code",
   "execution_count": 3,
   "metadata": {},
   "outputs": [],
   "source": [
    "import json\n",
    "from pprint import pprint\n",
    "import tinydb as tdb"
   ]
  },
  {
   "cell_type": "code",
   "execution_count": 4,
   "metadata": {},
   "outputs": [],
   "source": [
    "db = tdb.TinyDB('data/tinyDB.json')"
   ]
  },
  {
   "cell_type": "code",
   "execution_count": 5,
   "metadata": {},
   "outputs": [],
   "source": [
    "osm = db.table('osm')\n",
    "merimee = db.table('merimee')\n",
    "wikidata = db.table('wikidata')"
   ]
  },
  {
   "cell_type": "code",
   "execution_count": 6,
   "metadata": {},
   "outputs": [],
   "source": [
    "dataOSM = osm.all()"
   ]
  },
  {
   "cell_type": "code",
   "execution_count": 7,
   "metadata": {},
   "outputs": [
    {
     "data": {
      "text/plain": [
       "{'heritage': '3',\n",
       " 'heritage:operator': 'mhs',\n",
       " 'historic': 'memorial',\n",
       " 'idOSM': 21609292,\n",
       " 'image': \"http://phototheque.1000wallpapers.com/galleries/Nature/p/Pa+%E0+Pl/Parc+de+la+T%EAte+d'Or/Ile+du+souvenir/Monument+aux+morts/large/Monument+aux+morts+5.jpg\",\n",
       " 'mhs:inscription_date': '1982',\n",
       " 'name': \"Monument aux morts de l'île du Souvenir\",\n",
       " 'ref:mhs': 'PA00117982',\n",
       " 'typeOSM': 'node',\n",
       " 'wikidata': 'Q17341711',\n",
       " 'wikipedia': \"fr:Monument aux morts de l'île du Souvenir\"}"
      ]
     },
     "execution_count": 7,
     "metadata": {},
     "output_type": "execute_result"
    }
   ],
   "source": [
    "dataOSM[0]"
   ]
  },
  {
   "cell_type": "code",
   "execution_count": 8,
   "metadata": {},
   "outputs": [
    {
     "data": {
      "text/plain": [
       "[('PA00103673', [24381, 24382]), ('PA00102859', [774, 1229])]"
      ]
     },
     "execution_count": 8,
     "metadata": {},
     "output_type": "execute_result"
    }
   ],
   "source": [
    "dicoMerimeeIndice = {}\n",
    "for i, d in enumerate(dataOSM):\n",
    "    merimeeCode = d['ref:mhs']  # code merimee\n",
    "    if merimeeCode in dicoMerimeeIndice:\n",
    "        dicoMerimeeIndice[merimeeCode].append(i)\n",
    "    else:\n",
    "        dicoMerimeeIndice[merimeeCode] = [i]\n",
    "        \n",
    "listOfDuplicates = [ (refs, indices) for refs, indices in dicoMerimeeIndice.items() if len(indices)>1 ]\n",
    "\n",
    "listOfDuplicates[:2]"
   ]
  },
  {
   "cell_type": "code",
   "execution_count": 9,
   "metadata": {},
   "outputs": [
    {
     "data": {
      "text/plain": [
       "488"
      ]
     },
     "execution_count": 9,
     "metadata": {},
     "output_type": "execute_result"
    }
   ],
   "source": [
    "len(listOfDuplicates)"
   ]
  },
  {
   "cell_type": "code",
   "execution_count": 10,
   "metadata": {},
   "outputs": [
    {
     "data": {
      "text/plain": [
       "32246"
      ]
     },
     "execution_count": 10,
     "metadata": {},
     "output_type": "execute_result"
    }
   ],
   "source": [
    "len( dataOSM )"
   ]
  },
  {
   "cell_type": "code",
   "execution_count": 144,
   "metadata": {},
   "outputs": [],
   "source": [
    "def getWikiCode(itemUrl):\n",
    "    items = itemUrl.split('/')\n",
    "    text = '[%s](%s)'%( items[-1], itemUrl  )\n",
    "    return text\n",
    "\n",
    "def formatOSMInfo( info ):\n",
    "    osmtype = info['typeOSM']\n",
    "    desc = info['name'] if 'name' in info else '...'\n",
    "    idOSM = info['idOSM']\n",
    "    \n",
    "    osmUrl = 'https://www.openstreetmap.org/%s/%s' % (osmtype, idOSM)\n",
    "    osmLink = '[%s%s](%s)' % (osmtype, idOSM, osmUrl)\n",
    "    \n",
    "    if 'wikidata' in info:\n",
    "        wikidataUrl = 'https://www.wikidata.org/wiki/%s' % info['wikidata']\n",
    "        wikidataLink = '- [.wd.](%s)' % wikidataUrl\n",
    "    else:\n",
    "        wikidataLink = ''\n",
    "        \n",
    "    return '%s %s - %s   ' % ( osmLink, wikidataLink, desc)\n",
    "\n",
    "page = ''\n",
    "for merimee, indices in listOfDuplicates:\n",
    "    page +=  '**%s**:   \\n ' % merimee\n",
    "    page += '\\n'.join( [formatOSMInfo(dataOSM[i]) for i in indices] )\n",
    "    page += '\\n\\n'"
   ]
  },
  {
   "cell_type": "code",
   "execution_count": 145,
   "metadata": {},
   "outputs": [],
   "source": [
    "with open('output.txt', 'w') as file:\n",
    "    file.write( page )"
   ]
  },
  {
   "cell_type": "code",
   "execution_count": null,
   "metadata": {},
   "outputs": [],
   "source": [
    "print(page)"
   ]
  },
  {
   "cell_type": "markdown",
   "metadata": {},
   "source": [
    "## To csv"
   ]
  },
  {
   "cell_type": "code",
   "execution_count": 21,
   "metadata": {},
   "outputs": [],
   "source": [
    "def formatOSMInfoCSV( merimee, info ):\n",
    "    osmtype = info['typeOSM']\n",
    "    desc = info['name'] if 'name' in info else '...'\n",
    "    idOSM = info['idOSM']\n",
    "    \n",
    "    osmUrl = 'https://www.openstreetmap.org/%s/%s' % (osmtype, idOSM)\n",
    "   \n",
    "    if 'wikidata' in info:\n",
    "        wikidataUrl = 'https://www.wikidata.org/wiki/%s' % info['wikidata']\n",
    "    else:\n",
    "        wikidataUrl = ''\n",
    "        \n",
    "    return ','.join( (merimee, osmtype, str(idOSM), osmUrl, wikidataUrl, desc) )"
   ]
  },
  {
   "cell_type": "code",
   "execution_count": 26,
   "metadata": {},
   "outputs": [],
   "source": [
    "csv = 'merimee, osmtype, idOSM, osmUrl, wikidataUrl, desc\\n'\n",
    "for merimee, indices in listOfDuplicates:\n",
    "    csv += '\\n'.join( [formatOSMInfoCSV(merimee, dataOSM[i]) for i in indices] )\n",
    "    csv += '\\n'\n",
    "    \n",
    "with open('duplicateOSM.csv', 'w') as file:\n",
    "    file.write( csv )"
   ]
  },
  {
   "cell_type": "code",
   "execution_count": null,
   "metadata": {},
   "outputs": [],
   "source": []
  }
 ],
 "metadata": {
  "kernelspec": {
   "display_name": "Python 3",
   "language": "python",
   "name": "python3"
  },
  "language_info": {
   "codemirror_mode": {
    "name": "ipython",
    "version": 3
   },
   "file_extension": ".py",
   "mimetype": "text/x-python",
   "name": "python",
   "nbconvert_exporter": "python",
   "pygments_lexer": "ipython3",
   "version": "3.5.2"
  }
 },
 "nbformat": 4,
 "nbformat_minor": 2
}
