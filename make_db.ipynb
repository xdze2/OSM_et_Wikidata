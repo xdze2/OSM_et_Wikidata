{
 "cells": [
  {
   "cell_type": "code",
   "execution_count": 2,
   "metadata": {
    "collapsed": false
   },
   "outputs": [],
   "source": [
    "import json\n",
    "import sqlite3"
   ]
  },
  {
   "cell_type": "code",
   "execution_count": 9,
   "metadata": {
    "collapsed": false
   },
   "outputs": [],
   "source": [
    "# Charge le fichier JSON Merimée\n",
    "filename = 'data/liste-des-immeubles-proteges-au-titre-des-monuments-historiques.json' \n",
    "\n",
    "with open(filename) as f:\n",
    "    dataMerimee = json.load(f)\n",
    "    \n",
    "len(dataMerimee)\n",
    "dataMerimee = [ d['fields'] for d in  dataMerimee ]"
   ]
  },
  {
   "cell_type": "code",
   "execution_count": 5,
   "metadata": {
    "collapsed": false
   },
   "outputs": [
    {
     "data": {
      "text/plain": [
       "33071"
      ]
     },
     "execution_count": 5,
     "metadata": {},
     "output_type": "execute_result"
    }
   ],
   "source": [
    "# Charge le fichier JSON OSM:\n",
    "filename = 'data/osmTags_France.json' \n",
    "\n",
    "with open(filename) as f:\n",
    "    dataOsm = json.load(f)\n",
    "    \n",
    "dataOsm = dataOsm['elements']\n",
    "len(dataOsm)"
   ]
  },
  {
   "cell_type": "code",
   "execution_count": 6,
   "metadata": {
    "collapsed": false
   },
   "outputs": [
    {
     "data": {
      "text/plain": [
       "32246"
      ]
     },
     "execution_count": 6,
     "metadata": {},
     "output_type": "execute_result"
    }
   ],
   "source": [
    "# Garde seulement les monuments avec le code commençant par PA...\n",
    "dataOsm = [ el for el in dataOsm if el['tags']['ref:mhs'].startswith('PA') ]\n",
    "len(dataOsm)"
   ]
  },
  {
   "cell_type": "code",
   "execution_count": 7,
   "metadata": {
    "collapsed": false
   },
   "outputs": [],
   "source": [
    "# Creer une table dans une base sqlite\n",
    "c = sqlite3.connect('data/data.db')\n",
    "\n",
    "with c:\n",
    "    cur = c.cursor() \n",
    "    c.execute('''DROP TABLE IF EXISTS merimee''')\n",
    "    cur.execute(\"CREATE TABLE IF NOT EXISTS merimee(refmhs TEXT NOT NULL UNIQUE, name TEXT, region TEXT, \\\n",
    "                departement TEXT, commune TEXT, SCLE TEXT, DPRO TEXT, INSEE TEXT, STAT TEXT)\")"
   ]
  },
  {
   "cell_type": "code",
   "execution_count": 14,
   "metadata": {
    "collapsed": false
   },
   "outputs": [
    {
     "ename": "IntegrityError",
     "evalue": "UNIQUE constraint failed: merimee.refmhs",
     "output_type": "error",
     "traceback": [
      "\u001b[0;31m---------------------------------------------------------------------------\u001b[0m",
      "\u001b[0;31mIntegrityError\u001b[0m                            Traceback (most recent call last)",
      "\u001b[0;32m<ipython-input-14-e5f12d0c72c3>\u001b[0m in \u001b[0;36m<module>\u001b[0;34m()\u001b[0m\n\u001b[1;32m      1\u001b[0m \u001b[0;32mfor\u001b[0m \u001b[0mdata\u001b[0m \u001b[0;32min\u001b[0m \u001b[0mdataMerimee\u001b[0m\u001b[0;34m[\u001b[0m\u001b[0;34m:\u001b[0m\u001b[0;34m-\u001b[0m\u001b[0;36m1\u001b[0m\u001b[0;34m]\u001b[0m\u001b[0;34m:\u001b[0m\u001b[0;34m\u001b[0m\u001b[0m\n\u001b[1;32m      2\u001b[0m     \u001b[0;31m# print (data['REF'])\u001b[0m\u001b[0;34m\u001b[0m\u001b[0;34m\u001b[0m\u001b[0m\n\u001b[0;32m----> 3\u001b[0;31m     \u001b[0mcur\u001b[0m\u001b[0;34m.\u001b[0m\u001b[0mexecute\u001b[0m\u001b[0;34m(\u001b[0m\u001b[0;34m\"INSERT INTO merimee VALUES(?, ?, ?, ?, ?, ?, ?, ?, ?);\"\u001b[0m\u001b[0;34m,\u001b[0m                \u001b[0;34m(\u001b[0m\u001b[0mdata\u001b[0m\u001b[0;34m[\u001b[0m\u001b[0;34m'ref'\u001b[0m\u001b[0;34m]\u001b[0m\u001b[0;34m,\u001b[0m \u001b[0mdata\u001b[0m\u001b[0;34m[\u001b[0m\u001b[0;34m'tico'\u001b[0m\u001b[0;34m]\u001b[0m\u001b[0;34m,\u001b[0m \u001b[0mdata\u001b[0m\u001b[0;34m[\u001b[0m\u001b[0;34m'reg'\u001b[0m\u001b[0;34m]\u001b[0m\u001b[0;34m,\u001b[0m \u001b[0mdata\u001b[0m\u001b[0;34m[\u001b[0m\u001b[0;34m'code_departement'\u001b[0m\u001b[0;34m]\u001b[0m\u001b[0;34m,\u001b[0m \u001b[0mdata\u001b[0m\u001b[0;34m[\u001b[0m\u001b[0;34m'commune'\u001b[0m\u001b[0;34m]\u001b[0m\u001b[0;34m,\u001b[0m                \u001b[0mdata\u001b[0m\u001b[0;34m[\u001b[0m\u001b[0;34m'scle'\u001b[0m\u001b[0;34m]\u001b[0m\u001b[0;34m,\u001b[0m \u001b[0mdata\u001b[0m\u001b[0;34m[\u001b[0m\u001b[0;34m'dpro'\u001b[0m\u001b[0;34m]\u001b[0m\u001b[0;34m,\u001b[0m \u001b[0mdata\u001b[0m\u001b[0;34m[\u001b[0m\u001b[0;34m'insee'\u001b[0m\u001b[0;34m]\u001b[0m\u001b[0;34m,\u001b[0m \u001b[0mdata\u001b[0m\u001b[0;34m[\u001b[0m\u001b[0;34m'stat'\u001b[0m\u001b[0;34m]\u001b[0m\u001b[0;34m)\u001b[0m\u001b[0;34m)\u001b[0m\u001b[0;34m\u001b[0m\u001b[0m\n\u001b[0m",
      "\u001b[0;31mIntegrityError\u001b[0m: UNIQUE constraint failed: merimee.refmhs"
     ]
    }
   ],
   "source": [
    "for data in dataMerimee[:-1]:\n",
    "    # print (data['REF'])\n",
    "    cur.execute(\"INSERT INTO merimee VALUES(?, ?, ?, ?, ?, ?, ?, ?, ?);\",\\\n",
    "                (data['ref'], data['tico'], data['reg'], data['code_departement'], data['commune'],\\\n",
    "                data['scle'], data['dpro'], data['insee'], data['stat']))"
   ]
  },
  {
   "cell_type": "code",
   "execution_count": 125,
   "metadata": {
    "collapsed": false
   },
   "outputs": [
    {
     "data": {
      "text/plain": [
       "<sqlite3.Cursor at 0x7f4785c52030>"
      ]
     },
     "execution_count": 125,
     "metadata": {},
     "output_type": "execute_result"
    }
   ],
   "source": [
    "c.execute('''DROP TABLE IF EXISTS osm''')\n",
    "cur.execute(\"CREATE TABLE IF NOT EXISTS osm(refmhs TEXT NOT NULL, type TEXT, id INTEGER,\\\n",
    "            name TEXT, wikidata TEXT, wikipedia TEXT)\")"
   ]
  },
  {
   "cell_type": "code",
   "execution_count": 126,
   "metadata": {
    "collapsed": false
   },
   "outputs": [],
   "source": [
    "for data in dataOsm['elements']:\n",
    "    if 'wikidata' in data['tags']: \n",
    "        wkd = data['tags']['wikidata']\n",
    "    else :\n",
    "        wkd =\"\"\n",
    "    if 'name' in data['tags']:\n",
    "        nom = data['tags']['name']\n",
    "    else :\n",
    "        nom = \"\"\n",
    "    if 'wikipedia' in data['tags']:\n",
    "        wp = data['tags']['wikipedia']\n",
    "    else :\n",
    "        wp =\"\"\n",
    "    cur.execute(\"INSERT INTO osm VALUES(?, ?, ?, ?, ?, ?);\",\\\n",
    "                (data['tags']['ref:mhs'], data['id'], data['type'], nom,\\\n",
    "                 wkd, wp))"
   ]
  },
  {
   "cell_type": "code",
   "execution_count": 127,
   "metadata": {
    "collapsed": false
   },
   "outputs": [],
   "source": [
    "c.commit()\n",
    "c.close()"
   ]
  },
  {
   "cell_type": "code",
   "execution_count": null,
   "metadata": {
    "collapsed": false
   },
   "outputs": [],
   "source": []
  }
 ],
 "metadata": {
  "kernelspec": {
   "display_name": "Python 3",
   "language": "python",
   "name": "python3"
  },
  "language_info": {
   "codemirror_mode": {
    "name": "ipython",
    "version": 3
   },
   "file_extension": ".py",
   "mimetype": "text/x-python",
   "name": "python",
   "nbconvert_exporter": "python",
   "pygments_lexer": "ipython3",
   "version": "3.5.2"
  }
 },
 "nbformat": 4,
 "nbformat_minor": 2
}
