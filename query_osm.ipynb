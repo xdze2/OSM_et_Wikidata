{
 "cells": [
  {
   "cell_type": "code",
   "execution_count": null,
   "metadata": {},
   "outputs": [],
   "source": [
    "import overpy\n",
    "\n",
    "def get_data(query):\n",
    "    '''\n",
    "        Requete sur \"http://overpass-api.de/api/interpreter\" (url par default)\n",
    "    '''\n",
    "    # Obtenir la selection géographique sur oapi serveur français\n",
    "    # urlFR = u\"http://api.openstreetmap.fr/oapi/interpreter\"\n",
    "    api = overpy.Overpass()\n",
    "    # FIXME pour le département de l'Aisne l'url FR ne réponds un result vide !?\n",
    "    # api.url = urlFR\n",
    "    try:\n",
    "        result = api.query(query)\n",
    "    except overpy.exception.OverpassUnknownHTTPStatusCode:\n",
    "        print('UnknownHTTPStatusCode : HTTPS status Code = 500 !')\n",
    "        result = None\n",
    "        # raise overpy.exception.OverpassTooManyRequests()\n",
    "    except overpy.exception.OverpassTooManyRequests:\n",
    "        print('TooManyRequests : Trop de requêtes pour le serveur Overpass.eu. Patienter et ré-essayer plus tard.')\n",
    "        result = None\n",
    "    except overpy.exception.OverpassGatewayTimeout:\n",
    "        print('TimeOut : Le serveur Overpass.eu ne réponds pas.')\n",
    "        result = None\n",
    "    # else :\n",
    "    # print (type(result))\n",
    "        # si erreur timeout attendre un moment et recommencer (pas planter)\n",
    "    return result\n",
    "\n",
    "\n",
    "\n",
    "def get_osm(departement, musee):\n",
    "    '''\n",
    "        Obtenir les objets OSM contenant le tag 'ref:mhs'\n",
    "        pour un département = '01' par exemple\n",
    "    '''\n",
    "    query = \"[timeout:900];\"\n",
    "    query_part1 = '''area[admin_level={}][\"name\"=\"{}\"]->.boundaryarea;\n",
    "                (node(area.boundaryarea)[\"ref:mhs\"];\n",
    "                way(area.boundaryarea)[\"ref:mhs\"];\n",
    "                relation(area.boundaryarea)[\"ref:mhs\"];);'''\n",
    "    query_end = '''out meta;>;out meta;'''\n",
    "    for d in departement:\n",
    "        query = \"\"\n",
    "        if 'Miquelon' in d:\n",
    "            level = '3'\n",
    "        else:\n",
    "            level = '6'\n",
    "        query += query_part1.format(level, d)\n",
    "        query += query_end\n",
    "        query = ' '.join(query.replace(\"\\n\", \"\").split())\n",
    "        # print(\"Query : \", query)\n",
    "        logging.debug(\"log : Osm Query : {}\".format(query))\n",
    "        result = get_data(query)"
   ]
  }
 ],
 "metadata": {
  "kernelspec": {
   "display_name": "Python 3",
   "language": "python",
   "name": "python3"
  },
  "language_info": {
   "codemirror_mode": {
    "name": "ipython",
    "version": 3
   },
   "file_extension": ".py",
   "mimetype": "text/x-python",
   "name": "python",
   "nbconvert_exporter": "python",
   "pygments_lexer": "ipython3",
   "version": "3.5.2"
  }
 },
 "nbformat": 4,
 "nbformat_minor": 2
}
