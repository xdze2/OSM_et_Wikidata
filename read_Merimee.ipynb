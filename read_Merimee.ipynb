{
 "cells": [
  {
   "cell_type": "code",
   "execution_count": 1,
   "metadata": {},
   "outputs": [],
   "source": [
    "import json\n",
    "from pprint import pprint\n",
    "import tinydb as tdb"
   ]
  },
  {
   "cell_type": "code",
   "execution_count": 2,
   "metadata": {},
   "outputs": [
    {
     "name": "stdout",
     "output_type": "stream",
     "text": [
      "45191\n"
     ]
    }
   ],
   "source": [
    "# -- Charge le fichier JSON: --\n",
    "# src: https://www.data.gouv.fr/fr/datasets/immeubles-proteges-au-titre-des-monuments-historiques/\n",
    "\n",
    "filename = 'data/liste-des-immeubles-proteges-au-titre-des-monuments-historiques.json' \n",
    "\n",
    "with open(filename) as f:\n",
    "    dataMerimee = json.load(f)\n",
    "    \n",
    "print( len(dataMerimee) )\n",
    "\n",
    "dataMerimee = [ d['fields'] for d in  dataMerimee ]"
   ]
  },
  {
   "cell_type": "code",
   "execution_count": 39,
   "metadata": {},
   "outputs": [
    {
     "name": "stdout",
     "output_type": "stream",
     "text": [
      "{'adrs': 'Aristide-Briand (place) ; Mairie (place de la)',\n",
      " 'autr': \"Rochas Jean (maître de l'oeuvre)\",\n",
      " 'code_departement': '84',\n",
      " 'commune': 'Pernes-les-Fontaines',\n",
      " 'coordonnees_insee': [43.9960550539, 5.03959100234],\n",
      " 'dpro': '2009/03/31 : classé MH',\n",
      " 'etud': 'recensement immeubles MH',\n",
      " 'insee': '84088',\n",
      " 'new_name': \"Provence-Alpes-Côte d'Azur\",\n",
      " 'nom_dept': 'Vaucluse',\n",
      " 'ppro': \"Les parties bâties et non bâties de l'Hôtel de Ville, en totalité, à \"\n",
      "         'savoir le corps central, les ailes nord et sud, y compris leurs '\n",
      "         \"appendices en retour, l'aile sud-ouest, le mur de clôture de la cour \"\n",
      "         \"d'honneur avec son portail et sa fontaine, les emprises de la cour \"\n",
      "         \"d'honneur, des autres cours et des jardins, la fontaine du jardin \"\n",
      "         '(cad. AX 549, 638) : classement par arrêté du 31 mars 2009',\n",
      " 'ref': 'PA00082123',\n",
      " 'reg': \"Provence-Alpes-Côte d'Azur\",\n",
      " 'reg_normalized': \"provence alpes cote d'azur\",\n",
      " 'scle': '17e siècle',\n",
      " 'stat': 'propriété de la commune',\n",
      " 'tico': 'Hôtel de ville, ancien hôtel de Brancas-Cheilus'}\n"
     ]
    }
   ],
   "source": [
    "# To find an example:\n",
    "for d in dataMerimee:\n",
    "    if 'autr' in d:\n",
    "        pprint(d)\n",
    "        break"
   ]
  },
  {
   "cell_type": "code",
   "execution_count": 40,
   "metadata": {},
   "outputs": [
    {
     "name": "stdout",
     "output_type": "stream",
     "text": [
      "['adrs', 'affe', 'autr', 'code_departement', 'commune', 'coordonnees_insee', 'dpro', 'etud', 'insee', 'new_name', 'nom_dept', 'ppro', 'ref', 'reg', 'reg_normalized', 'scle', 'stat', 'tico']\n"
     ]
    }
   ],
   "source": [
    "# Liste les cles utilisees:\n",
    "allkeys = { k for d in dataMerimee for k in d.keys()  }\n",
    "print( sorted(allkeys) )"
   ]
  },
  {
   "cell_type": "markdown",
   "metadata": {},
   "source": [
    " Liste et description des infos:\n",
    " \n",
    "        adrs: adresse?\n",
    "        affe: Organisne proprietaire?\n",
    "        autr:  contact (architecte, maitre d'oeuvre, ...)\n",
    "        code_departement:  numero du departement\n",
    "        commune: -\n",
    "        coordonnees_insee: coords GPS\n",
    "        dpro: date de l'enregistrment?\n",
    "        etud: etude d'origine? \n",
    "        insee: reference insee?\n",
    "        new_name: Nouveau nom de la region?\n",
    "        nom_dept: departement\n",
    "        ppro:  description ?\n",
    "        ref: reference Merimee\n",
    "        reg: Region\n",
    "        reg_normalized: Region\n",
    "        scle: siecle\n",
    "        stat: status  public/privee\n",
    "        tico:  description ?\n",
    "        \n",
    "        \n",
    "        \n",
    "        \n",
    "    Région: new_name[text]\n",
    "    Département: nom_dept[text]\n",
    "    Commune: commune[text]\n",
    "    Appellation courante: tico[text]\n",
    "    Siecle: scle[text]\n",
    "    AUTEUR: autr[text]\n",
    "    Précision sur la Protection: ppro[text]\n",
    "    Date de Protection: dpro[text]\n",
    "    Statut: stat[text]\n",
    "    Adresse: adrs[text]\n",
    "    INSEE: insee[text]\n",
    "    AFFECTATAIRE: affe[text]\n",
    "    ETUDE: etud[text]\n",
    "    Référence: ref[text]\n",
    "    Coordonnées INSEE: coordonnees_insee[geo_point_2d]\n",
    "    Code département: code_departement[text]\n",
    "    Ancienne région: reg[text]\n",
    "    Région normalisée: reg_normalized[text]"
   ]
  },
  {
   "cell_type": "code",
   "execution_count": 5,
   "metadata": {},
   "outputs": [
    {
     "name": "stdout",
     "output_type": "stream",
     "text": [
      "38\n",
      "oropriété d'une personne privée, \n",
      "propriété d'un etat étranger, \n",
      "propriété d'un organisme professionnel, \n",
      "propriété d'un pays étranger, \n",
      "propriété d'un syndicat intercommunal, \n",
      "propriété d'un établissement public, \n",
      "propriété d'un établissement public communal, \n",
      "propriété d'un établissement public de coopération intercommunale, \n",
      "propriété d'un établissement public de l'etat, \n",
      "propriété d'un établissement public de l'état, \n",
      "propriété d'un établissement public départemental, \n",
      "propriété d'un établissement public régional, \n",
      "propriété d'un état étranger, \n",
      "propriété d'une association, \n",
      "propriété d'une association cultuelle, \n",
      "propriété d'une association diocésaine, \n",
      "propriété d'une collectivité territoriale, \n",
      "propriété d'une communauté d'agglomération, \n",
      "propriété d'une communauté de communes, \n",
      "propriété d'une communauté urbaine, \n",
      "propriété d'une personne privée, \n",
      "propriété d'une société privée, \n",
      "propriété de l'etat, \n",
      "propriété de l'office national des forêts, \n",
      "propriété de l'état, \n",
      "propriété de la banque de france, \n",
      "propriété de la communauté urbaine, \n",
      "propriété de la commune, \n",
      "propriété de la commune (?), \n",
      "propriété de la commune , propriété privée, \n",
      "propriété de la région, \n",
      "propriété du conseil général, \n",
      "propriété du conseil régional, \n",
      "propriété du département, \n",
      "propriété privée, \n",
      "propriété privée (?), \n",
      "propriété privée : propriété du département, \n",
      "propriété publique\n"
     ]
    }
   ],
   "source": [
    "'''  Liste toutes les valeurs utilisees  pour le status  ('stat')\n",
    "'''\n",
    "\n",
    "key = 'stat'\n",
    "parseStatus = lambda s: s.split(';')\n",
    "allStatus = { statut.strip().lower() for d in dataMerimee if key in d for statut in parseStatus( d[key] ) }\n",
    "print(len(allStatus))\n",
    "print( ', \\n'.join(sorted(allStatus)) ) "
   ]
  },
  {
   "cell_type": "code",
   "execution_count": 6,
   "metadata": {},
   "outputs": [
    {
     "name": "stdout",
     "output_type": "stream",
     "text": [
      "174\n",
      "; 10e siècle; 11e siècle; 12e siècle; 12e siècle : 13e siècle; 12e siècle. 16e siècle; 13e siècle; 13e siécle; 14e siècle; 14e siècle (détruit); 15e siècle; 16e siècle; 16è siècle; 17e siècle; 18e siècle; 19e siècle; 1er quart 10e siècle; 1er quart 11e siècle; 1er quart 12e siecle; 1er quart 12e siècle; 1er quart 13e siècle; 1er quart 14e siècle; 1er quart 15e siècle; 1er quart 16e siècle; 1er quart 17e siècle; 1er quart 18e siècle; 1er quart 19e siècle; 1er quart 1er siècle; 1er quart 20e siècle; 1er quart 21e siècle; 1er quart 2e siècle; 1er quart 5e siècle; 1er siècle; 1er siècle av. JC; 1ère moitié 10e siècle; 1ère moitié 11e siècle; 1ère moitié 12e siècle; 1ère moitié 13e siècle; 1ère moitié 14e siècle; 1ère moitié 15e siècle; 1ère moitié 16e siècle; 1ère moitié 17e siècle; 1ère moitié 18e siècle; 1ère moitié 19e siècle; 1ère moitié 19e siècle.; 1ère moitié 20e siècle; 1ère moitié 4e siècle; 1ère moitié 5e siècle; 1ére moitié 19e siècle; 20e siècle; 2e moitié 10e siècle; 2e moitié 11e siècle; 2e moitié 12e siècle; 2e moitié 13e siècle; 2e moitié 14e siècle; 2e moitié 15e siècle; 2e moitié 16e siècle; 2e moitié 17e siècle; 2e moitié 18e siècle; 2e moitié 19e siècle; 2e moitié 1er siècle; 2e moitié 20e siècle; 2e moitié 4e siècle; 2e moitié 9e siècle; 2e quart 11e siècle; 2e quart 12e siècle; 2e quart 13e siècle; 2e quart 14e siècle; 2e quart 15e siècle; 2e quart 16e siècle; 2e quart 17e siècle; 2e quart 18e siècle; 2e quart 19e siècle; 2e quart 20e siècle; 2e siècle; 2e siècle av. JC; 2è moitié 18e siècle; 3e quart 10e siècle; 3e quart 11e siècle; 3e quart 12e siècle; 3e quart 13e siècle; 3e quart 14e siècle; 3e quart 15e siècle; 3e quart 16e siècle; 3e quart 17e siècle; 3e quart 18e siècle; 3e quart 19e siècle; 3e quart 20e siècle; 3e quart 3e siècle; 3e siècle; 3e siècle av. JC; 4e quart 10e siècle; 4e quart 11e siècle; 4e quart 12e siècle; 4e quart 13e siècle; 4e quart 14e siècle; 4e quart 15e siècle; 4e quart 16e siècle; 4e quart 17e siècle; 4e quart 18e siècle; 4e quart 19e siècle; 4e quart 1er siècle; 4e quart 20e siècle; 4e quart 2e siècle; 4e quart 4e siècle; 4e quart 9e siècle; 4e siècle; 4e siècle av. JC; 5e siècle; 6e siècle; 6e siècle av. JC; 7e siècle; 8e siècle; 9e siècle; Age du bronze; Age du bronze ancien; Age du bronze final; Age du bronze moyen; Age du fer; Age du fer 1; Age du fer 2; Antiquité; Bas-Empire; Chalcolithique; Fin du Moyen Age; Gallo-romain; Gallo-romain (détruit); Haut Moyen Age; Haut-Empire; Limite 19e siècle 20e siècle; Milieu 16e siècle; Milieu 18e siècle; Milieu 19e siècle; Milieu du Moyen Age; Moyen Age; Moyen-Age; Mésolithique; Néolithique; Néolithique ancien; Néolithique moyen; Néolithique récent; Paléolithique; Paléolithique ancien; Paléolithique moyen; Paléolithique supérieur; Protohistoire; Préhistoire; République romaine; Temps modernes; limite 11e siècle 12e siècle; limite 12e siècle 13e siècle; limite 13e siècle 14e siècle; limite 14e siècle 15e siècle; limite 15e siècle 16e siècle; limite 16e siècle 17e siècle; limite 17e siècle 18e siècle; limite 18e siècle 19e siècle; limite 19e siècle 20e siècle; limite 6e siècle 7e siècle; limite 9e siècle 10e siècle; milieu 11e siècle; milieu 12e siècle; milieu 13e siècle; milieu 14e siècle; milieu 15e siècle; milieu 16e siècle; milieu 17e siècle; milieu 18e siècle; milieu 19e siècle; milieu 1er siècle; milieu 20e siècle; moyen Age; âge du bronze; âge du bronze final\n"
     ]
    }
   ],
   "source": [
    "'''  Liste toutes les valeurs utilisees  pour le siecle  ('scle')\n",
    "'''\n",
    "\n",
    "key = 'scle'\n",
    "\n",
    "def parseSiecle( s ):\n",
    "    s = s.split(';')\n",
    "    s = [ flat for v in s for flat in v.split(',')  ]\n",
    "    s = [ v.replace('(?)', '') for v in s ]\n",
    "    s = [ v.strip() for v in s ]\n",
    "    return s\n",
    "    \n",
    "allValues = { value for d in dataMerimee if key in d\n",
    "                    for value in parseSiecle(d[key]) }\n",
    "\n",
    "print(len(allValues))\n",
    "print( '; '.join(sorted(allValues)) ) "
   ]
  },
  {
   "cell_type": "code",
   "execution_count": 8,
   "metadata": {},
   "outputs": [
    {
     "name": "stdout",
     "output_type": "stream",
     "text": [
      "69\n",
      "association, \n",
      "association cultuelle, \n",
      "clergé, \n",
      "commune, \n",
      "conseil constitutionnel, \n",
      "conseil d'etat, \n",
      "conseil économique et social, \n",
      "conservatoire de l'espace littoral et des rivages lacustres, \n",
      "direction de l'architecture et du patrimoine, \n",
      "direction de la musique et de la danse, \n",
      "direction des archives de france, \n",
      "direction des musées de france, \n",
      "direction du livre et de la lecture, \n",
      "direction du patrimoine, \n",
      "direction générale des patrimoines, \n",
      "domaines, \n",
      "délégation aux arts plastiques, \n",
      "département, \n",
      "etat, \n",
      "france domaine, \n",
      "ministère chargé de l'agriculture, \n",
      "ministère chargé de l'agriculture et de la forêt, \n",
      "ministère chargé de l'agriculture, de l'agro-alimentaire et de la forêt, \n",
      "ministère chargé de l'emploi, \n",
      "ministère chargé de l'enseignement supérieur et de la recherche, \n",
      "ministère chargé de l'environnement, \n",
      "ministère chargé de l'industrie, \n",
      "ministère chargé de l'industrie et du tourisme, \n",
      "ministère chargé de l'intérieur, \n",
      "ministère chargé de l'écologie, de l'énergie, du développement durable et de l'aménagement du territoire, \n",
      "ministère chargé de l'écologie, de l'énergie, du développement durable et de la mer, \n",
      "ministère chargé de l'écologie, du développement durable et de l'énergie, \n",
      "ministère chargé de l'écologie, du développement durable, des transports et du logement, \n",
      "ministère chargé de l'économie et des finances, \n",
      "ministère chargé de l'éducation nationale, \n",
      "ministère chargé de l'équipement, \n",
      "ministère chargé de l'équipement et du logement, \n",
      "ministère chargé de la coopération, \n",
      "ministère chargé de la culture, \n",
      "ministère chargé de la défense, \n",
      "ministère chargé de la fonction publique, \n",
      "ministère chargé de la justice, \n",
      "ministère chargé de la mer, \n",
      "ministère chargé des affaires sociales, \n",
      "ministère chargé des affaires sociales et de l'emploi, \n",
      "ministère chargé des affaires étrangères, \n",
      "ministère chargé des anciens combattants, \n",
      "ministère chargé des départements et territoires d'outremer, \n",
      "ministère chargé des postes, \n",
      "ministère chargé des postes et télécommunications, \n",
      "ministère chargé des relations avec le parlement, \n",
      "ministère chargé des transports, \n",
      "ministère chargé du budget, \n",
      "ministère chargé du logement, \n",
      "ministère chargé du tourisme, \n",
      "ministère de l'écologie, du développement durable et de l'énergie, \n",
      "ministère de l'équipement, du logement et des transports, \n",
      "ministère des affaires étrangères, \n",
      "office national des forêts, \n",
      "personne privée, \n",
      "présidence de la république, \n",
      "région, \n",
      "services du premier ministre, \n",
      "société privée, \n",
      "syndicat intercommunal, \n",
      "sénat, \n",
      "établissement public, \n",
      "établissement public communal, \n",
      "établissement public de l'etat\n"
     ]
    }
   ],
   "source": [
    "'''  Liste toutes les valeurs utilisees  pour le AFFE  ('affe')\n",
    "'''\n",
    "\n",
    "key = 'affe'\n",
    "parseValue = lambda s: s.split(';')\n",
    "allValues = { val.strip().lower() for d in dataMerimee if key in d\n",
    "                                  for val in parseValue( d[key] ) }\n",
    "print(len(allValues))\n",
    "print( ', \\n'.join(sorted(allValues)) ) "
   ]
  },
  {
   "cell_type": "code",
   "execution_count": 24,
   "metadata": {},
   "outputs": [
    {
     "data": {
      "text/plain": [
       "45191"
      ]
     },
     "execution_count": 24,
     "metadata": {},
     "output_type": "execute_result"
    }
   ],
   "source": [
    "# Push to tinyDB\n",
    "\n",
    "db = tdb.TinyDB('data/tinyDB.json')\n",
    "db.purge_table('merimee')\n",
    "merimee = db.table('merimee')\n",
    "\n",
    "ids = merimee.insert_multiple(dataMerimee)\n",
    "\n",
    "len(ids)"
   ]
  },
  {
   "cell_type": "code",
   "execution_count": 25,
   "metadata": {},
   "outputs": [
    {
     "data": {
      "text/plain": [
       "{'code_departement': '95',\n",
       " 'commune': 'Parmain',\n",
       " 'coordonnees_insee': [49.1228699088, 2.201277887],\n",
       " 'dpro': '1912/09/03 : classé MH ; 1945/02/20 : inscrit MH',\n",
       " 'etud': 'Recensement immeubles MH',\n",
       " 'insee': '95480',\n",
       " 'new_name': 'Ile-de-France',\n",
       " 'nom_dept': \"Val-d'oise\",\n",
       " 'ppro': 'Choeur avec les deux travées du 12s qui le précèdent ; clocher du 13s surmontant la première travée : classement par arrêté du 3 septembre 1912 ; Eglise, sauf parties classées : inscription par arrêté du 20 février 1945',\n",
       " 'ref': 'PA00080158',\n",
       " 'reg': 'Ile-de-France',\n",
       " 'reg_normalized': 'ile de france',\n",
       " 'scle': '12e siècle;13e siècle',\n",
       " 'stat': 'Propriété de la commune',\n",
       " 'tico': 'Eglise de Jouy-le-Comte'}"
      ]
     },
     "execution_count": 25,
     "metadata": {},
     "output_type": "execute_result"
    }
   ],
   "source": [
    "merimee.all()[0]"
   ]
  },
  {
   "cell_type": "markdown",
   "metadata": {},
   "source": [
    "## Read Merimee from http://data.culture.fr/entrepot/MERIMEE/"
   ]
  },
  {
   "cell_type": "code",
   "execution_count": 26,
   "metadata": {},
   "outputs": [
    {
     "name": "stdout",
     "output_type": "stream",
     "text": [
      "45268\n"
     ]
    }
   ],
   "source": [
    "# -- Charge le fichier JSON: --\n",
    "# src: https://www.data.gouv.fr/fr/datasets/immeubles-proteges-au-titre-des-monuments-historiques/#resource-9c9fdb40-5b4d-4296-9efd-0093d1bc7d15\n",
    "\n",
    "filename = 'data/merimee-MH.json' \n",
    "\n",
    "with open(filename) as f:\n",
    "    dataMerimee2 = json.load(f)\n",
    "    \n",
    "print( len(dataMerimee2) )\n"
   ]
  },
  {
   "cell_type": "code",
   "execution_count": 37,
   "metadata": {},
   "outputs": [
    {
     "name": "stdout",
     "output_type": "stream",
     "text": [
      "['ADRS', 'AFFE', 'AUTR', 'COM', 'DPRO', 'DPT', 'ETUD', 'INSEE', 'PPRO', 'REF', 'REG', 'SCLE', 'STAT', 'TICO']\n"
     ]
    }
   ],
   "source": [
    "# Liste les cles utilisees:\n",
    "allkeys = { k for d in dataMerimee2 for k in d.keys()  }\n",
    "print( sorted(allkeys) )"
   ]
  },
  {
   "cell_type": "code",
   "execution_count": 36,
   "metadata": {},
   "outputs": [
    {
     "data": {
      "text/plain": [
       "{'ADRS': \"A l'entrée de la commune\",\n",
       " 'AFFE': '',\n",
       " 'AUTR': '',\n",
       " 'COM': 'Brienne-la-Vieille',\n",
       " 'DPRO': '1916/11/25 : classé MH',\n",
       " 'DPT': '10',\n",
       " 'ETUD': 'Recensement immeubles MH',\n",
       " 'INSEE': '10063',\n",
       " 'PPRO': 'Croix de carrefour en fer forgé : classement par arrêté du 25 novembre 1916',\n",
       " 'REF': 'PA00078058',\n",
       " 'REG': 'Champagne-Ardenne',\n",
       " 'SCLE': '2e quart 18e siècle',\n",
       " 'STAT': 'Propriété de la commune',\n",
       " 'TICO': 'Croix de carrefour'}"
      ]
     },
     "execution_count": 36,
     "metadata": {},
     "output_type": "execute_result"
    }
   ],
   "source": [
    "dataMerimee2[44]"
   ]
  },
  {
   "cell_type": "code",
   "execution_count": 67,
   "metadata": {},
   "outputs": [],
   "source": [
    "dataMerimee2 = [d for d in dataMerimee2 if 'REF' in d ]\n",
    "# rq: il y a un monument sans ref..."
   ]
  },
  {
   "cell_type": "code",
   "execution_count": 68,
   "metadata": {},
   "outputs": [
    {
     "name": "stdout",
     "output_type": "stream",
     "text": [
      "45267\n",
      "45191\n"
     ]
    }
   ],
   "source": [
    "refsMerimee2 = [ m['REF'] for m in dataMerimee2 if 'REF' in m ]\n",
    "print(len(refsMerimee2))\n",
    "\n",
    "refsMerimee1 = [ m['ref'] for m in dataMerimee ]\n",
    "print(len(refsMerimee1))"
   ]
  },
  {
   "cell_type": "code",
   "execution_count": 60,
   "metadata": {},
   "outputs": [],
   "source": [
    "s1, s2 = set(refsMerimee1), set(refsMerimee2)\n",
    "# https://docs.python.org/2/library/sets.html#set-objects|"
   ]
  },
  {
   "cell_type": "code",
   "execution_count": 61,
   "metadata": {},
   "outputs": [
    {
     "data": {
      "text/plain": [
       "45191"
      ]
     },
     "execution_count": 61,
     "metadata": {},
     "output_type": "execute_result"
    }
   ],
   "source": [
    "len( s1 & s2  )"
   ]
  },
  {
   "cell_type": "code",
   "execution_count": 62,
   "metadata": {},
   "outputs": [
    {
     "data": {
      "text/plain": [
       "0"
      ]
     },
     "execution_count": 62,
     "metadata": {},
     "output_type": "execute_result"
    }
   ],
   "source": [
    "len( s1 - s2  )"
   ]
  },
  {
   "cell_type": "code",
   "execution_count": 63,
   "metadata": {},
   "outputs": [
    {
     "data": {
      "text/plain": [
       "76"
      ]
     },
     "execution_count": 63,
     "metadata": {},
     "output_type": "execute_result"
    }
   ],
   "source": [
    "len( s2 - s1  )"
   ]
  },
  {
   "cell_type": "code",
   "execution_count": 64,
   "metadata": {},
   "outputs": [],
   "source": [
    "in2_but_not_in1 = s2 - s1 "
   ]
  },
  {
   "cell_type": "code",
   "execution_count": 69,
   "metadata": {},
   "outputs": [],
   "source": [
    "in2_but_not_in1 = [ m for m in dataMerimee2 if m['REF'] in in2_but_not_in1 ]"
   ]
  },
  {
   "cell_type": "code",
   "execution_count": 77,
   "metadata": {},
   "outputs": [
    {
     "data": {
      "text/plain": [
       "{'ADRS': 'Aristide-Briand (avenue) 81',\n",
       " 'AFFE': '',\n",
       " 'AUTR': 'Mollié André (architecte)',\n",
       " 'COM': 'Barsac',\n",
       " 'DPRO': '2017/09/13: inscrit MH',\n",
       " 'DPT': '33',\n",
       " 'ETUD': 'recensement immeubles MH',\n",
       " 'INSEE': '33030',\n",
       " 'PPRO': 'Le château Nairac situé 81 avenue Aristide Briand, tel que délimité par un liseré noir sur le plan joint à l\\x92arrêté (cad. E 347, 348) : inscription par arrêté du 13 septembre 2017',\n",
       " 'REF': 'PA33000206',\n",
       " 'REG': 'Aquitaine',\n",
       " 'SCLE': '',\n",
       " 'STAT': 'propriété privée',\n",
       " 'TICO': 'château Nairac'}"
      ]
     },
     "execution_count": 77,
     "metadata": {},
     "output_type": "execute_result"
    }
   ],
   "source": [
    "in2_but_not_in1[11]"
   ]
  },
  {
   "cell_type": "markdown",
   "metadata": {},
   "source": [
    "## Par date d'ajout"
   ]
  },
  {
   "cell_type": "code",
   "execution_count": 152,
   "metadata": {},
   "outputs": [],
   "source": [
    "import re\n",
    "def getTheYear(datestr):\n",
    "    matches = re.findall(\"([0-9]{4})\", datestr)\n",
    "    year = int(matches[0]) if matches else None\n",
    "    return year"
   ]
  },
  {
   "cell_type": "code",
   "execution_count": 153,
   "metadata": {},
   "outputs": [],
   "source": [
    "date = [ m['DPRO'] for m in dataMerimee2 ]\n",
    "years = [ getTheYear(d) for d in date ]"
   ]
  },
  {
   "cell_type": "code",
   "execution_count": 154,
   "metadata": {},
   "outputs": [
    {
     "data": {
      "text/plain": [
       "1975"
      ]
     },
     "execution_count": 154,
     "metadata": {},
     "output_type": "execute_result"
    }
   ],
   "source": [
    "years[0]"
   ]
  },
  {
   "cell_type": "code",
   "execution_count": 160,
   "metadata": {},
   "outputs": [],
   "source": [
    "counts = {}\n",
    "for y in years:\n",
    "    if y:\n",
    "        counts[y] = counts[y] + 1 if (y in counts) else 1\n",
    "\n",
    "counts = sorted( counts.items(), key=lambda x:x[0] )"
   ]
  },
  {
   "cell_type": "code",
   "execution_count": 161,
   "metadata": {},
   "outputs": [],
   "source": [
    "import numpy as np\n",
    "%matplotlib inline\n",
    "import matplotlib.pyplot as plt"
   ]
  },
  {
   "cell_type": "code",
   "execution_count": 162,
   "metadata": {},
   "outputs": [
    {
     "data": {
      "text/plain": [
       "Text(0.5,1,'merimee-MH.json')"
      ]
     },
     "execution_count": 162,
     "metadata": {},
     "output_type": "execute_result"
    },
    {
     "data": {
      "image/png": "[encoded data removed]",
      "text/plain": [
       "<matplotlib.figure.Figure at 0x7f695d3fceb8>"
      ]
     },
     "metadata": {},
     "output_type": "display_data"
    }
   ],
   "source": [
    "plt.figure(figsize=(12, 3));\n",
    "plt.step( *zip(*counts) )\n",
    "plt.ylabel('nombre monuments')\n",
    "plt.xlabel(\"annee d'ajout\")\n",
    "plt.xlim( counts[0][0]-1, 2018)\n",
    "plt.title('merimee-MH.json')"
   ]
  },
  {
   "cell_type": "code",
   "execution_count": 159,
   "metadata": {},
   "outputs": [
    {
     "data": {
      "text/plain": [
       "(1926, 2068)"
      ]
     },
     "execution_count": 159,
     "metadata": {},
     "output_type": "execute_result"
    }
   ],
   "source": [
    "countsReversed = sorted( counts, key=lambda x:x[1] )\n",
    "countsReversed[-1]"
   ]
  },
  {
   "cell_type": "code",
   "execution_count": null,
   "metadata": {},
   "outputs": [],
   "source": []
  }
 ],
 "metadata": {
  "kernelspec": {
   "display_name": "Python 3",
   "language": "python",
   "name": "python3"
  },
  "language_info": {
   "codemirror_mode": {
    "name": "ipython",
    "version": 3
   },
   "file_extension": ".py",
   "mimetype": "text/x-python",
   "name": "python",
   "nbconvert_exporter": "python",
   "pygments_lexer": "ipython3",
   "version": "3.5.2"
  }
 },
 "nbformat": 4,
 "nbformat_minor": 2
}
