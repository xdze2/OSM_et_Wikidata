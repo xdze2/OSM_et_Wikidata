{
 "cells": [
  {
   "cell_type": "code",
   "execution_count": 1,
   "metadata": {},
   "outputs": [],
   "source": [
    "import json\n",
    "from pprint import pprint\n",
    "import tinydb as tdb"
   ]
  },
  {
   "cell_type": "code",
   "execution_count": 18,
   "metadata": {},
   "outputs": [],
   "source": [
    "dbname = 'data/tinyDB.json'"
   ]
  },
  {
   "cell_type": "code",
   "execution_count": 20,
   "metadata": {},
   "outputs": [],
   "source": [
    "!rm {dbname}"
   ]
  },
  {
   "cell_type": "markdown",
   "metadata": {},
   "source": [
    "\n",
    "## OSM: Requete OverPass turbo:\n",
    "\n",
    "```sql\n",
    "[out:json][timeout:500];\n",
    "{{geocodeArea:France}}->.boundaryarea;\n",
    "\n",
    "(\n",
    " node(area.boundaryarea)[\"ref:mhs\"];\n",
    " way(area.boundaryarea)[\"ref:mhs\"];\n",
    " relation(area.boundaryarea)[\"ref:mhs\"];\n",
    ");\n",
    "\n",
    "out tags;\n",
    "```\n",
    "-- 20Mo\n",
    "\n",
    "Rq: j'ai essayé avec `out meta;`, le fichier fait ~200Mo, et avec `out body;` ~90Mo... c'est surement mieux de séparer par département...\n"
   ]
  },
  {
   "cell_type": "code",
   "execution_count": 21,
   "metadata": {},
   "outputs": [
    {
     "data": {
      "text/plain": [
       "33071"
      ]
     },
     "execution_count": 21,
     "metadata": {},
     "output_type": "execute_result"
    }
   ],
   "source": [
    "# Charge le fichier JSON:\n",
    "filename = 'data/osmTags_France.json' \n",
    "\n",
    "with open(filename) as f:\n",
    "    dataOsm = json.load(f)\n",
    "    \n",
    "dataOsm = dataOsm['elements']\n",
    "len(dataOsm)"
   ]
  },
  {
   "cell_type": "code",
   "execution_count": 22,
   "metadata": {},
   "outputs": [
    {
     "data": {
      "text/plain": [
       "32246"
      ]
     },
     "execution_count": 22,
     "metadata": {},
     "output_type": "execute_result"
    }
   ],
   "source": [
    "# Garde seulement les monuments avec le code commençant par PA...\n",
    "dataOsm = [ el for el in dataOsm if el['tags']['ref:mhs'].startswith('PA') ]\n",
    "len(dataOsm)"
   ]
  },
  {
   "cell_type": "code",
   "execution_count": 23,
   "metadata": {},
   "outputs": [],
   "source": [
    "def flatten( dico ):\n",
    "    flatdico = dico['tags']\n",
    "    flatdico['idOSM'] = dico['id']\n",
    "    flatdico['typeOSM'] = dico['type']\n",
    "    \n",
    "    return flatdico"
   ]
  },
  {
   "cell_type": "code",
   "execution_count": 24,
   "metadata": {},
   "outputs": [],
   "source": [
    "# Garde que les tags - and flatten the dict \n",
    "dataOsm = [ flatten( el ) for el in dataOsm ]"
   ]
  },
  {
   "cell_type": "code",
   "execution_count": 26,
   "metadata": {},
   "outputs": [
    {
     "data": {
      "text/plain": [
       "32246"
      ]
     },
     "execution_count": 26,
     "metadata": {},
     "output_type": "execute_result"
    }
   ],
   "source": [
    "# Push to tinyDB\n",
    "db = tdb.TinyDB(dbname)\n",
    "db.purge_table('osm')\n",
    "osm = db.table('osm')\n",
    "ids = osm.insert_multiple(dataOsm)\n",
    "len(ids)"
   ]
  },
  {
   "cell_type": "markdown",
   "metadata": {},
   "source": [
    "## Requete Wikidata\n",
    "```sql\n",
    "SELECT DISTINCT ?item ?itemDescription ?merimee ?article  WHERE {\n",
    "  ?item wdt:P380 ?merimee .\n",
    "  \n",
    "  OPTIONAL { ?article schema:about ?item .\n",
    "  ?article schema:isPartOf <https://fr.wikipedia.org/> . }\n",
    "   \n",
    "  FILTER(STRSTARTS(?merimee, \"PA\")).\n",
    "  \n",
    "  SERVICE wikibase:label {\n",
    "     bd:serviceParam wikibase:language \"fr\" .\n",
    " }\n",
    "}\n",
    "```\n",
    "-- 7,6 Mo"
   ]
  },
  {
   "cell_type": "code",
   "execution_count": 27,
   "metadata": {},
   "outputs": [
    {
     "data": {
      "text/plain": [
       "44912"
      ]
     },
     "execution_count": 27,
     "metadata": {},
     "output_type": "execute_result"
    }
   ],
   "source": [
    "# Charge le fichier JSON:\n",
    "filename = 'data/wikidata_France.json' \n",
    "\n",
    "with open(filename) as f:\n",
    "    dataWiki = json.load(f)\n",
    "    \n",
    "len(dataWiki)"
   ]
  },
  {
   "cell_type": "code",
   "execution_count": 28,
   "metadata": {},
   "outputs": [
    {
     "data": {
      "text/plain": [
       "{'article': 'https://fr.wikipedia.org/wiki/%C3%89glise_Saint-%C3%89tienne-du-Mont_de_Paris',\n",
       " 'item': 'http://www.wikidata.org/entity/Q583251',\n",
       " 'itemDescription': 'édifice religieux de Paris, en France',\n",
       " 'merimee': 'PA00088414'}"
      ]
     },
     "execution_count": 28,
     "metadata": {},
     "output_type": "execute_result"
    }
   ],
   "source": [
    "dataWiki[0]"
   ]
  },
  {
   "cell_type": "code",
   "execution_count": 29,
   "metadata": {},
   "outputs": [
    {
     "data": {
      "text/plain": [
       "44912"
      ]
     },
     "execution_count": 29,
     "metadata": {},
     "output_type": "execute_result"
    }
   ],
   "source": [
    "# Push to tinyDB\n",
    "db = tdb.TinyDB(dbname)\n",
    "db.purge_table('wikidata')\n",
    "wikidata = db.table('wikidata')\n",
    "ids = wikidata.insert_multiple(dataWiki)\n",
    "len(ids)"
   ]
  },
  {
   "cell_type": "markdown",
   "metadata": {},
   "source": [
    "# Merimee"
   ]
  },
  {
   "cell_type": "code",
   "execution_count": 30,
   "metadata": {},
   "outputs": [
    {
     "name": "stdout",
     "output_type": "stream",
     "text": [
      "45268\n"
     ]
    }
   ],
   "source": [
    "# -- Charge le fichier JSON: --\n",
    "# src: https://www.data.gouv.fr/fr/datasets/immeubles-proteges-au-titre-des-monuments-historiques/\n",
    "\n",
    "#filename = 'data/liste-des-immeubles-proteges-au-titre-des-monuments-historiques.json' \n",
    "filename = 'data/merimee-MH.json' \n",
    "\n",
    "with open(filename) as f:\n",
    "    dataMerimee = json.load(f)\n",
    "    \n",
    "print( len(dataMerimee) )\n",
    "\n",
    "# convert keys to lower-case:\n",
    "dataMerimee = [ { k.lower():v for k, v in d.items() }  for d in  dataMerimee ]"
   ]
  },
  {
   "cell_type": "code",
   "execution_count": 31,
   "metadata": {},
   "outputs": [
    {
     "data": {
      "text/plain": [
       "{'adrs': '',\n",
       " 'affe': '',\n",
       " 'autr': '',\n",
       " 'com': 'Aix-en-Othe',\n",
       " 'dpro': '1980/11/14 : inscrit MH',\n",
       " 'dpt': '10',\n",
       " 'etud': 'Recensement immeubles MH',\n",
       " 'insee': '10003',\n",
       " 'ppro': 'Eglise de la Nativité (cad. AB 179) : inscription par arrêté du 14 novembre 1980',\n",
       " 'ref': 'PA00078015',\n",
       " 'reg': 'Champagne-Ardenne',\n",
       " 'scle': '16e siècle ; 17e siècle ; 18e siècle',\n",
       " 'stat': 'Propriété de la commune',\n",
       " 'tico': 'Eglise de la Nativité'}"
      ]
     },
     "execution_count": 31,
     "metadata": {},
     "output_type": "execute_result"
    }
   ],
   "source": [
    "dataMerimee[1]"
   ]
  },
  {
   "cell_type": "code",
   "execution_count": 32,
   "metadata": {},
   "outputs": [
    {
     "data": {
      "text/plain": [
       "45268"
      ]
     },
     "execution_count": 32,
     "metadata": {},
     "output_type": "execute_result"
    }
   ],
   "source": [
    "# Push to tinyDB\n",
    "\n",
    "db = tdb.TinyDB(dbname)\n",
    "db.purge_table('merimee')\n",
    "merimee = db.table('merimee')\n",
    "\n",
    "ids = merimee.insert_multiple(dataMerimee)\n",
    "\n",
    "len(ids)"
   ]
  },
  {
   "cell_type": "code",
   "execution_count": null,
   "metadata": {},
   "outputs": [],
   "source": []
  },
  {
   "cell_type": "code",
   "execution_count": null,
   "metadata": {},
   "outputs": [],
   "source": []
  },
  {
   "cell_type": "code",
   "execution_count": null,
   "metadata": {},
   "outputs": [],
   "source": []
  }
 ],
 "metadata": {
  "kernelspec": {
   "display_name": "Python 3",
   "language": "python",
   "name": "python3"
  },
  "language_info": {
   "codemirror_mode": {
    "name": "ipython",
    "version": 3
   },
   "file_extension": ".py",
   "mimetype": "text/x-python",
   "name": "python",
   "nbconvert_exporter": "python",
   "pygments_lexer": "ipython3",
   "version": "3.5.2"
  }
 },
 "nbformat": 4,
 "nbformat_minor": 2
}
