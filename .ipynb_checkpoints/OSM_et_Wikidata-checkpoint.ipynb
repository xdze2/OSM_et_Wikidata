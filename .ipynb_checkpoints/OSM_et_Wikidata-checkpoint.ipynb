{
 "cells": [
  {
   "cell_type": "code",
   "execution_count": 25,
   "metadata": {},
   "outputs": [],
   "source": [
    "import json\n",
    "from pprint import pprint\n",
    "import tinydb as tdb"
   ]
  },
  {
   "cell_type": "markdown",
   "metadata": {},
   "source": [
    "\n",
    "## Requete OverPass turbo:\n",
    "\n",
    "```sql\n",
    "[out:json][timeout:500];\n",
    "{{geocodeArea:France}}->.boundaryarea;\n",
    "\n",
    "(\n",
    " node(area.boundaryarea)[\"ref:mhs\"];\n",
    " way(area.boundaryarea)[\"ref:mhs\"];\n",
    " relation(area.boundaryarea)[\"ref:mhs\"];\n",
    ");\n",
    "\n",
    "out tags;\n",
    "```\n",
    "-- 20Mo\n",
    "\n",
    "Rq: j'ai essayé avec `out meta;`, le fichier fait ~200Mo, et avec `out body;` ~90Mo... c'est surement mieux de séparer par département...\n"
   ]
  },
  {
   "cell_type": "code",
   "execution_count": 33,
   "metadata": {},
   "outputs": [
    {
     "data": {
      "text/plain": [
       "33071"
      ]
     },
     "execution_count": 33,
     "metadata": {},
     "output_type": "execute_result"
    }
   ],
   "source": [
    "# Charge le fichier JSON:\n",
    "filename = 'data/osmTags_France.json' \n",
    "\n",
    "with open(filename) as f:\n",
    "    dataOsm = json.load(f)\n",
    "    \n",
    "dataOsm = dataOsm['elements']\n",
    "len(dataOsm)"
   ]
  },
  {
   "cell_type": "code",
   "execution_count": 27,
   "metadata": {},
   "outputs": [
    {
     "data": {
      "text/plain": [
       "32246"
      ]
     },
     "execution_count": 27,
     "metadata": {},
     "output_type": "execute_result"
    }
   ],
   "source": [
    "# Garde seulement les monuments avec le code commençant par PA...\n",
    "dataOsm = [ el for el in dataOsm if el['tags']['ref:mhs'].startswith('PA') ]\n",
    "len(dataOsm)"
   ]
  },
  {
   "cell_type": "code",
   "execution_count": 34,
   "metadata": {},
   "outputs": [],
   "source": [
    "# Garde que les tags\n",
    "dataOsm = [ el['tags'] for el in dataOsm ]"
   ]
  },
  {
   "cell_type": "code",
   "execution_count": 35,
   "metadata": {},
   "outputs": [
    {
     "data": {
      "text/plain": [
       "{'heritage': '3',\n",
       " 'heritage:operator': 'mhs',\n",
       " 'historic': 'memorial',\n",
       " 'image': \"http://phototheque.1000wallpapers.com/galleries/Nature/p/Pa+%E0+Pl/Parc+de+la+T%EAte+d'Or/Ile+du+souvenir/Monument+aux+morts/large/Monument+aux+morts+5.jpg\",\n",
       " 'mhs:inscription_date': '1982',\n",
       " 'name': \"Monument aux morts de l'île du Souvenir\",\n",
       " 'ref:mhs': 'PA00117982',\n",
       " 'wikidata': 'Q17341711',\n",
       " 'wikipedia': \"fr:Monument aux morts de l'île du Souvenir\"}"
      ]
     },
     "execution_count": 35,
     "metadata": {},
     "output_type": "execute_result"
    }
   ],
   "source": [
    "dataOsm[0]"
   ]
  },
  {
   "cell_type": "code",
   "execution_count": 36,
   "metadata": {},
   "outputs": [
    {
     "data": {
      "text/plain": [
       "33071"
      ]
     },
     "execution_count": 36,
     "metadata": {},
     "output_type": "execute_result"
    }
   ],
   "source": [
    "# Push to tinyDB\n",
    "db = tdb.TinyDB('data/tinyDB.json')\n",
    "db.purge_table('osm')\n",
    "osm = db.table('osm')\n",
    "ids = osm.insert_multiple(dataOsm)\n",
    "len(ids)"
   ]
  },
  {
   "cell_type": "code",
   "execution_count": null,
   "metadata": {},
   "outputs": [],
   "source": [
    "''' Convertie la liste en dictionaire pour les données OSM:\n",
    "    key: ref. Mérimée\n",
    "    value: tags osm\n",
    "'''\n",
    "dataOsm = { el['tags']['ref:mhs']:el for el in  dataOsm }"
   ]
  },
  {
   "cell_type": "markdown",
   "metadata": {},
   "source": [
    "## Requete Wikidata\n",
    "```sql\n",
    "SELECT DISTINCT ?item ?itemDescription ?merimee ?article  WHERE {\n",
    "  ?item wdt:P380 ?merimee .\n",
    "  \n",
    "  OPTIONAL { ?article schema:about ?item .\n",
    "  ?article schema:isPartOf <https://fr.wikipedia.org/> . }\n",
    "   \n",
    "  FILTER(STRSTARTS(?merimee, \"PA\")).\n",
    "  \n",
    "  SERVICE wikibase:label {\n",
    "     bd:serviceParam wikibase:language \"fr\" .\n",
    " }\n",
    "}\n",
    "```\n",
    "-- 7,6 Mo"
   ]
  },
  {
   "cell_type": "code",
   "execution_count": 22,
   "metadata": {},
   "outputs": [
    {
     "data": {
      "text/plain": [
       "44912"
      ]
     },
     "execution_count": 22,
     "metadata": {},
     "output_type": "execute_result"
    }
   ],
   "source": [
    "# Charge le fichier JSON:\n",
    "filename = 'data/wikidata_France.json' \n",
    "\n",
    "with open(filename) as f:\n",
    "    dataWiki = json.load(f)\n",
    "    \n",
    "len(dataWiki)"
   ]
  },
  {
   "cell_type": "code",
   "execution_count": 23,
   "metadata": {},
   "outputs": [
    {
     "data": {
      "text/plain": [
       "{'article': 'https://fr.wikipedia.org/wiki/%C3%89glise_Saint-%C3%89tienne-du-Mont_de_Paris',\n",
       " 'item': 'http://www.wikidata.org/entity/Q583251',\n",
       " 'itemDescription': 'édifice religieux de Paris, en France',\n",
       " 'merimee': 'PA00088414'}"
      ]
     },
     "execution_count": 23,
     "metadata": {},
     "output_type": "execute_result"
    }
   ],
   "source": [
    "dataWiki[0]"
   ]
  },
  {
   "cell_type": "code",
   "execution_count": 24,
   "metadata": {},
   "outputs": [
    {
     "data": {
      "text/plain": [
       "44912"
      ]
     },
     "execution_count": 24,
     "metadata": {},
     "output_type": "execute_result"
    }
   ],
   "source": [
    "# Push to tinyDB\n",
    "db = tdb.TinyDB('data/tinyDB.json')\n",
    "db.purge_table('wikidata')\n",
    "wikidata = db.table('wikidata')\n",
    "ids = wikidata.insert_multiple(dataWiki)\n",
    "len(ids)"
   ]
  },
  {
   "cell_type": "markdown",
   "metadata": {},
   "source": [
    "## Monuments sans page Wikipedia:"
   ]
  },
  {
   "cell_type": "code",
   "execution_count": 93,
   "metadata": {},
   "outputs": [
    {
     "data": {
      "text/plain": [
       "23206"
      ]
     },
     "execution_count": 93,
     "metadata": {},
     "output_type": "execute_result"
    }
   ],
   "source": [
    "withoutAwikiPage = [ d for d in dataWiki if 'article' not in d ]\n",
    "len(withoutAwikiPage)"
   ]
  },
  {
   "cell_type": "code",
   "execution_count": 94,
   "metadata": {},
   "outputs": [
    {
     "data": {
      "text/plain": [
       "{'item': 'http://www.wikidata.org/entity/Q1440262',\n",
       " 'itemDescription': 'église à Vaugines (Vaucluse)',\n",
       " 'merimee': 'PA84000019'}"
      ]
     },
     "execution_count": 94,
     "metadata": {},
     "output_type": "execute_result"
    }
   ],
   "source": [
    "withoutAwikiPage[0]"
   ]
  },
  {
   "cell_type": "markdown",
   "metadata": {},
   "source": [
    "## Comparaison Wikidata/Mérimée vs OSM"
   ]
  },
  {
   "cell_type": "code",
   "execution_count": 95,
   "metadata": {},
   "outputs": [
    {
     "name": "stdout",
     "output_type": "stream",
     "text": [
      "44912\n",
      "13552\n"
     ]
    }
   ],
   "source": [
    "print( len(dataWiki) )\n",
    "print( len(dataWiki) - len(dataOsm) )"
   ]
  },
  {
   "cell_type": "markdown",
   "metadata": {},
   "source": [
    "Il semble bien avoir tout les monuments de Mérimés dans Wikidata...  \n",
    "et il manquerait 13552 monuments dans OSM ?"
   ]
  },
  {
   "cell_type": "markdown",
   "metadata": {},
   "source": [
    "## Monuments sans page Wikipedia et absent de OSM"
   ]
  },
  {
   "cell_type": "code",
   "execution_count": 96,
   "metadata": {},
   "outputs": [
    {
     "data": {
      "text/plain": [
       "8229"
      ]
     },
     "execution_count": 96,
     "metadata": {},
     "output_type": "execute_result"
    }
   ],
   "source": [
    "noWikiAndNoOsm = [ d for d in withoutAwikiPage if d['merimee'] not in dataOsm ]\n",
    "len(noWikiAndNoOsm)"
   ]
  },
  {
   "cell_type": "code",
   "execution_count": 97,
   "metadata": {},
   "outputs": [
    {
     "data": {
      "text/plain": [
       "{'item': 'http://www.wikidata.org/entity/Q1734360',\n",
       " 'itemDescription': 'pont situé à Moet-sur-Loing (Seine-et-Marne)',\n",
       " 'merimee': 'PA00087145'}"
      ]
     },
     "execution_count": 97,
     "metadata": {},
     "output_type": "execute_result"
    }
   ],
   "source": [
    "noWikiAndNoOsm[0]"
   ]
  },
  {
   "cell_type": "markdown",
   "metadata": {},
   "source": [
    "## Monuments AVEC une page Wikipedia mais absent de OSM"
   ]
  },
  {
   "cell_type": "code",
   "execution_count": 98,
   "metadata": {},
   "outputs": [
    {
     "data": {
      "text/plain": [
       "5229"
      ]
     },
     "execution_count": 98,
     "metadata": {},
     "output_type": "execute_result"
    }
   ],
   "source": [
    "wikiButNoOsm = [ d for d in dataWiki if \n",
    "                    (d['merimee'] not in dataOsm) and ('article' in d) ]\n",
    "len(wikiButNoOsm)"
   ]
  },
  {
   "cell_type": "code",
   "execution_count": 99,
   "metadata": {},
   "outputs": [
    {
     "data": {
      "text/plain": [
       "{'article': 'https://fr.wikipedia.org/wiki/Phare_de_Nividic',\n",
       " 'item': 'http://www.wikidata.org/entity/Q406723',\n",
       " 'itemDescription': 'phare français',\n",
       " 'merimee': 'PA29000083'}"
      ]
     },
     "execution_count": 99,
     "metadata": {},
     "output_type": "execute_result"
    }
   ],
   "source": [
    "wikiButNoOsm[0]"
   ]
  },
  {
   "cell_type": "code",
   "execution_count": null,
   "metadata": {},
   "outputs": [],
   "source": []
  }
 ],
 "metadata": {
  "kernelspec": {
   "display_name": "Python 3",
   "language": "python",
   "name": "python3"
  },
  "language_info": {
   "codemirror_mode": {
    "name": "ipython",
    "version": 3
   },
   "file_extension": ".py",
   "mimetype": "text/x-python",
   "name": "python",
   "nbconvert_exporter": "python",
   "pygments_lexer": "ipython3",
   "version": "3.5.2"
  }
 },
 "nbformat": 4,
 "nbformat_minor": 2
}
